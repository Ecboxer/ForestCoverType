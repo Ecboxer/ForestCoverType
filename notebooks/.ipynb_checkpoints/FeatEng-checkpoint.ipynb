{
 "cells": [
  {
   "cell_type": "code",
   "execution_count": 3,
   "metadata": {},
   "outputs": [],
   "source": [
    "import pandas as pd\n",
    "import numpy as np\n",
    "import matplotlib.pyplot as plt\n",
    "import matplotlib as mpl\n",
    "import seaborn as sns"
   ]
  },
  {
   "cell_type": "markdown",
   "metadata": {},
   "source": [
    "Import test and training data  \n",
    "Concatenate into combined dataframe for feature engineering"
   ]
  },
  {
   "cell_type": "code",
   "execution_count": 4,
   "metadata": {},
   "outputs": [],
   "source": [
    "df_train = pd.read_csv(\"../resources/train.csv\")\n",
    "df_test = pd.read_csv(\"../resources/test.csv\")\n",
    "combine = pd.concat([df_train, df_test], sort=False)"
   ]
  },
  {
   "cell_type": "code",
   "execution_count": 5,
   "metadata": {},
   "outputs": [],
   "source": [
    "#Bring in my cover types palette\n",
    "cust_palette = {\n",
    "    1: '#7fc97f',\n",
    "    2: '#beaed4',\n",
    "    3: '#fdc086',\n",
    "    4: '#ffff99',\n",
    "    5: '#386cb0',\n",
    "    6: '#f0027f',\n",
    "    7: '#bf5b18'\n",
    "}"
   ]
  },
  {
   "cell_type": "markdown",
   "metadata": {},
   "source": [
    "I hadn't realized that each cover type was represented equally in the training data. Neat!"
   ]
  },
  {
   "cell_type": "code",
   "execution_count": 6,
   "metadata": {},
   "outputs": [
    {
     "data": {
      "text/html": [
       "<div>\n",
       "<style scoped>\n",
       "    .dataframe tbody tr th:only-of-type {\n",
       "        vertical-align: middle;\n",
       "    }\n",
       "\n",
       "    .dataframe tbody tr th {\n",
       "        vertical-align: top;\n",
       "    }\n",
       "\n",
       "    .dataframe thead th {\n",
       "        text-align: right;\n",
       "    }\n",
       "</style>\n",
       "<table border=\"1\" class=\"dataframe\">\n",
       "  <thead>\n",
       "    <tr style=\"text-align: right;\">\n",
       "      <th></th>\n",
       "      <th>count</th>\n",
       "      <th>mean</th>\n",
       "      <th>std</th>\n",
       "      <th>min</th>\n",
       "      <th>25%</th>\n",
       "      <th>50%</th>\n",
       "      <th>75%</th>\n",
       "      <th>max</th>\n",
       "    </tr>\n",
       "    <tr>\n",
       "      <th>Cover_Type</th>\n",
       "      <th></th>\n",
       "      <th></th>\n",
       "      <th></th>\n",
       "      <th></th>\n",
       "      <th></th>\n",
       "      <th></th>\n",
       "      <th></th>\n",
       "      <th></th>\n",
       "    </tr>\n",
       "  </thead>\n",
       "  <tbody>\n",
       "    <tr>\n",
       "      <th>1</th>\n",
       "      <td>2160.0</td>\n",
       "      <td>3128.025926</td>\n",
       "      <td>156.124988</td>\n",
       "      <td>2525.0</td>\n",
       "      <td>3036.00</td>\n",
       "      <td>3144.0</td>\n",
       "      <td>3234.00</td>\n",
       "      <td>3675.0</td>\n",
       "    </tr>\n",
       "    <tr>\n",
       "      <th>2</th>\n",
       "      <td>2160.0</td>\n",
       "      <td>2922.540278</td>\n",
       "      <td>185.778268</td>\n",
       "      <td>2169.0</td>\n",
       "      <td>2802.00</td>\n",
       "      <td>2931.5</td>\n",
       "      <td>3042.00</td>\n",
       "      <td>3413.0</td>\n",
       "    </tr>\n",
       "    <tr>\n",
       "      <th>3</th>\n",
       "      <td>2160.0</td>\n",
       "      <td>2398.423148</td>\n",
       "      <td>194.108147</td>\n",
       "      <td>1903.0</td>\n",
       "      <td>2270.00</td>\n",
       "      <td>2409.0</td>\n",
       "      <td>2551.00</td>\n",
       "      <td>2850.0</td>\n",
       "    </tr>\n",
       "    <tr>\n",
       "      <th>4</th>\n",
       "      <td>2160.0</td>\n",
       "      <td>2223.420370</td>\n",
       "      <td>102.929940</td>\n",
       "      <td>1989.0</td>\n",
       "      <td>2140.00</td>\n",
       "      <td>2230.5</td>\n",
       "      <td>2304.25</td>\n",
       "      <td>2526.0</td>\n",
       "    </tr>\n",
       "    <tr>\n",
       "      <th>5</th>\n",
       "      <td>2160.0</td>\n",
       "      <td>2786.801389</td>\n",
       "      <td>96.177469</td>\n",
       "      <td>2482.0</td>\n",
       "      <td>2729.00</td>\n",
       "      <td>2793.0</td>\n",
       "      <td>2856.00</td>\n",
       "      <td>3007.0</td>\n",
       "    </tr>\n",
       "    <tr>\n",
       "      <th>6</th>\n",
       "      <td>2160.0</td>\n",
       "      <td>2423.276852</td>\n",
       "      <td>188.966981</td>\n",
       "      <td>1863.0</td>\n",
       "      <td>2319.75</td>\n",
       "      <td>2430.0</td>\n",
       "      <td>2553.00</td>\n",
       "      <td>2883.0</td>\n",
       "    </tr>\n",
       "    <tr>\n",
       "      <th>7</th>\n",
       "      <td>2160.0</td>\n",
       "      <td>3362.769907</td>\n",
       "      <td>109.126811</td>\n",
       "      <td>2870.0</td>\n",
       "      <td>3299.00</td>\n",
       "      <td>3364.0</td>\n",
       "      <td>3410.00</td>\n",
       "      <td>3849.0</td>\n",
       "    </tr>\n",
       "  </tbody>\n",
       "</table>\n",
       "</div>"
      ],
      "text/plain": [
       "             count         mean         std     min      25%     50%      75%  \\\n",
       "Cover_Type                                                                      \n",
       "1           2160.0  3128.025926  156.124988  2525.0  3036.00  3144.0  3234.00   \n",
       "2           2160.0  2922.540278  185.778268  2169.0  2802.00  2931.5  3042.00   \n",
       "3           2160.0  2398.423148  194.108147  1903.0  2270.00  2409.0  2551.00   \n",
       "4           2160.0  2223.420370  102.929940  1989.0  2140.00  2230.5  2304.25   \n",
       "5           2160.0  2786.801389   96.177469  2482.0  2729.00  2793.0  2856.00   \n",
       "6           2160.0  2423.276852  188.966981  1863.0  2319.75  2430.0  2553.00   \n",
       "7           2160.0  3362.769907  109.126811  2870.0  3299.00  3364.0  3410.00   \n",
       "\n",
       "               max  \n",
       "Cover_Type          \n",
       "1           3675.0  \n",
       "2           3413.0  \n",
       "3           2850.0  \n",
       "4           2526.0  \n",
       "5           3007.0  \n",
       "6           2883.0  \n",
       "7           3849.0  "
      ]
     },
     "execution_count": 6,
     "metadata": {},
     "output_type": "execute_result"
    }
   ],
   "source": [
    "df_train['Elevation'].groupby(by=df_train['Cover_Type']).describe()"
   ]
  },
  {
   "cell_type": "markdown",
   "metadata": {},
   "source": [
    "The summary statistics appear to differ, but I would like to visualize the differences  \n",
    "**Observations**  \n",
    "CTs 4, 3, and 6 have low mean Elevations  \n",
    "CTs 3, 4, and 6 have low max Elevations ~2800  \n",
    "CTs 7, 1, and ~2 have high mean Elevations  \n",
    "CTs 1, 5, and 7 have high min Elevations ~2500  \n",
    "**Notes**  \n",
    "Consider bands at 2500 and 2800 to differentiate low elevation group (3, 4, 6) from high elevation (1, 7, ~2, ~5)"
   ]
  },
  {
   "cell_type": "code",
   "execution_count": 7,
   "metadata": {},
   "outputs": [
    {
     "name": "stderr",
     "output_type": "stream",
     "text": [
      "/home/eric/anaconda3/lib/python3.6/site-packages/scipy/stats/stats.py:1713: FutureWarning: Using a non-tuple sequence for multidimensional indexing is deprecated; use `arr[tuple(seq)]` instead of `arr[seq]`. In the future this will be interpreted as an array index, `arr[np.array(seq)]`, which will result either in an error or a different result.\n",
      "  return np.add.reduce(sorted[indexer] * weights, axis=axis) / sumval\n"
     ]
    },
    {
     "data": {
      "text/plain": [
       "<matplotlib.legend.Legend at 0x7f794839eba8>"
      ]
     },
     "execution_count": 7,
     "metadata": {},
     "output_type": "execute_result"
    },
    {
     "data": {
      "image/png": "[encoded data removed]",
      "text/plain": [
       "<Figure size 432x288 with 1 Axes>"
      ]
     },
     "metadata": {},
     "output_type": "display_data"
    }
   ],
   "source": [
    "for i in range(1, 8): #Loop through cover types\n",
    "    g = sns.kdeplot(df_train['Elevation'][df_train['Cover_Type'] == i], color=cust_palette[i])\n",
    "sns.set_style('dark')\n",
    "g.legend(range(1, 8), bbox_to_anchor=(1.22, 1.02), title='Cover_Type')"
   ]
  },
  {
   "cell_type": "markdown",
   "metadata": {},
   "source": [
    "Want to clarify some percentiles for elevation bands"
   ]
  },
  {
   "cell_type": "code",
   "execution_count": 8,
   "metadata": {},
   "outputs": [
    {
     "data": {
      "text/plain": [
       "array([3273., 3311., 3367.])"
      ]
     },
     "execution_count": 8,
     "metadata": {},
     "output_type": "execute_result"
    }
   ],
   "source": [
    "np.percentile(df_train['Elevation'][df_train['Cover_Type'] == 1], [85, 90, 95]) #For the bound between tight elevation bands 2 and 3"
   ]
  },
  {
   "cell_type": "code",
   "execution_count": 9,
   "metadata": {},
   "outputs": [
    {
     "name": "stdout",
     "output_type": "stream",
     "text": [
      "3 [2608.   2642.   2695.05]\n",
      "6 [2619.   2666.2  2719.05]\n"
     ]
    }
   ],
   "source": [
    "for i in [3, 6]: #For the bound between loose elevation bands 0 and 1\n",
    "    print(i, np.percentile(df_train['Elevation'][df_train['Cover_Type'] == i], [85, 90, 95]))"
   ]
  },
  {
   "cell_type": "markdown",
   "metadata": {},
   "source": [
    "Tight Elevation bands:  \n",
    "0: Elev < 2500 (captures CT 4)  \n",
    "1: 2500 <= Elev < 2850 (captures CTs 3 and 6)  \n",
    "2: 2850 <= Elev < 3000 (captures CT 5)  \n",
    "3: 3000 <= Elev < 3300 (captures CT 2 and most of 1)  \n",
    "4: Elev >= 3300 (mostly CT 7)"
   ]
  },
  {
   "cell_type": "markdown",
   "metadata": {},
   "source": [
    "Loose Elevation bands:  \n",
    "0: Elev < 2600 (Captures CT 4, most of 3 and 6)  \n",
    "1: 2600 <= Elev < 3000 (Splits CTs 5 and 7)  \n",
    "2: Elev >= 3000  \n",
    "**Note**  \n",
    "Write even looser elevation band, splitting only on 2600"
   ]
  },
  {
   "cell_type": "code",
   "execution_count": 10,
   "metadata": {},
   "outputs": [],
   "source": [
    "def funcElevBand5(row): #Make tight elevation band feature\n",
    "    if row < 2500:\n",
    "        return 0\n",
    "    elif row >= 2500 & row < 2850:\n",
    "        return 1\n",
    "    elif row >= 2850 & row < 3000:\n",
    "        return 2\n",
    "    elif row >= 3000 & row < 3300:\n",
    "        return 3\n",
    "    else:\n",
    "        return 4\n",
    "combine['Elev_Band_5'] = combine['Elevation'].apply(funcElevBand5)"
   ]
  },
  {
   "cell_type": "code",
   "execution_count": 11,
   "metadata": {},
   "outputs": [],
   "source": [
    "def funcElevBand3(row): #Make loose elevation band feature\n",
    "    if row < 2600:\n",
    "        return 0\n",
    "    elif row >= 2600 & row < 3000:\n",
    "        return 1\n",
    "    else:\n",
    "        return 2\n",
    "combine['Elev_Band_3'] = combine['Elevation'].apply(funcElevBand3)"
   ]
  },
  {
   "cell_type": "code",
   "execution_count": 12,
   "metadata": {},
   "outputs": [],
   "source": [
    "def funcElevGT2600(row): #Make elevation feature splitting on 2600\n",
    "    if row < 2600:\n",
    "        return 0\n",
    "    else:\n",
    "        return 1\n",
    "combine['Elev_GT_2600'] = combine['Elevation'].apply(funcElevGT2600)"
   ]
  },
  {
   "cell_type": "markdown",
   "metadata": {},
   "source": [
    "**Done**  \n",
    "Made elevation band features 'Elev_Band_5', 'Elev_Band_3', and 'Elev_GT_2600' in descending order of specificity"
   ]
  },
  {
   "cell_type": "markdown",
   "metadata": {},
   "source": [
    "Look at summary statistics for Aspect, did not see trends in initial exploration"
   ]
  },
  {
   "cell_type": "code",
   "execution_count": 13,
   "metadata": {},
   "outputs": [
    {
     "data": {
      "text/html": [
       "<div>\n",
       "<style scoped>\n",
       "    .dataframe tbody tr th:only-of-type {\n",
       "        vertical-align: middle;\n",
       "    }\n",
       "\n",
       "    .dataframe tbody tr th {\n",
       "        vertical-align: top;\n",
       "    }\n",
       "\n",
       "    .dataframe thead tr th {\n",
       "        text-align: left;\n",
       "    }\n",
       "\n",
       "    .dataframe thead tr:last-of-type th {\n",
       "        text-align: right;\n",
       "    }\n",
       "</style>\n",
       "<table border=\"1\" class=\"dataframe\">\n",
       "  <thead>\n",
       "    <tr>\n",
       "      <th></th>\n",
       "      <th colspan=\"8\" halign=\"left\">Aspect</th>\n",
       "    </tr>\n",
       "    <tr>\n",
       "      <th></th>\n",
       "      <th>count</th>\n",
       "      <th>mean</th>\n",
       "      <th>std</th>\n",
       "      <th>min</th>\n",
       "      <th>25%</th>\n",
       "      <th>50%</th>\n",
       "      <th>75%</th>\n",
       "      <th>max</th>\n",
       "    </tr>\n",
       "    <tr>\n",
       "      <th>Cover_Type</th>\n",
       "      <th></th>\n",
       "      <th></th>\n",
       "      <th></th>\n",
       "      <th></th>\n",
       "      <th></th>\n",
       "      <th></th>\n",
       "      <th></th>\n",
       "      <th></th>\n",
       "    </tr>\n",
       "  </thead>\n",
       "  <tbody>\n",
       "    <tr>\n",
       "      <th>1</th>\n",
       "      <td>2160.0</td>\n",
       "      <td>159.463426</td>\n",
       "      <td>117.280496</td>\n",
       "      <td>0.0</td>\n",
       "      <td>54.0</td>\n",
       "      <td>123.0</td>\n",
       "      <td>286.00</td>\n",
       "      <td>359.0</td>\n",
       "    </tr>\n",
       "    <tr>\n",
       "      <th>2</th>\n",
       "      <td>2160.0</td>\n",
       "      <td>151.097222</td>\n",
       "      <td>107.320930</td>\n",
       "      <td>0.0</td>\n",
       "      <td>60.0</td>\n",
       "      <td>125.0</td>\n",
       "      <td>238.00</td>\n",
       "      <td>359.0</td>\n",
       "    </tr>\n",
       "    <tr>\n",
       "      <th>3</th>\n",
       "      <td>2160.0</td>\n",
       "      <td>173.672685</td>\n",
       "      <td>108.013267</td>\n",
       "      <td>0.0</td>\n",
       "      <td>86.0</td>\n",
       "      <td>161.0</td>\n",
       "      <td>277.00</td>\n",
       "      <td>360.0</td>\n",
       "    </tr>\n",
       "    <tr>\n",
       "      <th>4</th>\n",
       "      <td>2160.0</td>\n",
       "      <td>138.099537</td>\n",
       "      <td>88.846589</td>\n",
       "      <td>0.0</td>\n",
       "      <td>82.0</td>\n",
       "      <td>119.0</td>\n",
       "      <td>162.00</td>\n",
       "      <td>359.0</td>\n",
       "    </tr>\n",
       "    <tr>\n",
       "      <th>5</th>\n",
       "      <td>2160.0</td>\n",
       "      <td>137.992130</td>\n",
       "      <td>91.772285</td>\n",
       "      <td>0.0</td>\n",
       "      <td>69.0</td>\n",
       "      <td>108.0</td>\n",
       "      <td>192.00</td>\n",
       "      <td>359.0</td>\n",
       "    </tr>\n",
       "    <tr>\n",
       "      <th>6</th>\n",
       "      <td>2160.0</td>\n",
       "      <td>180.617130</td>\n",
       "      <td>133.087862</td>\n",
       "      <td>0.0</td>\n",
       "      <td>44.0</td>\n",
       "      <td>171.0</td>\n",
       "      <td>318.00</td>\n",
       "      <td>360.0</td>\n",
       "    </tr>\n",
       "    <tr>\n",
       "      <th>7</th>\n",
       "      <td>2160.0</td>\n",
       "      <td>155.794444</td>\n",
       "      <td>110.912616</td>\n",
       "      <td>0.0</td>\n",
       "      <td>67.0</td>\n",
       "      <td>126.0</td>\n",
       "      <td>246.25</td>\n",
       "      <td>359.0</td>\n",
       "    </tr>\n",
       "  </tbody>\n",
       "</table>\n",
       "</div>"
      ],
      "text/plain": [
       "            Aspect                                                         \n",
       "             count        mean         std  min   25%    50%     75%    max\n",
       "Cover_Type                                                                 \n",
       "1           2160.0  159.463426  117.280496  0.0  54.0  123.0  286.00  359.0\n",
       "2           2160.0  151.097222  107.320930  0.0  60.0  125.0  238.00  359.0\n",
       "3           2160.0  173.672685  108.013267  0.0  86.0  161.0  277.00  360.0\n",
       "4           2160.0  138.099537   88.846589  0.0  82.0  119.0  162.00  359.0\n",
       "5           2160.0  137.992130   91.772285  0.0  69.0  108.0  192.00  359.0\n",
       "6           2160.0  180.617130  133.087862  0.0  44.0  171.0  318.00  360.0\n",
       "7           2160.0  155.794444  110.912616  0.0  67.0  126.0  246.25  359.0"
      ]
     },
     "execution_count": 13,
     "metadata": {},
     "output_type": "execute_result"
    }
   ],
   "source": [
    "df_train[['Aspect']].groupby(by=df_train['Cover_Type']).describe()"
   ]
  },
  {
   "cell_type": "markdown",
   "metadata": {},
   "source": [
    "Don't see major difference in cover type by aspect, but I will visualize to get a better idea  \n",
    "I would hypothesize that aspect affects species indirectly, through mediator variables like length of exposure to sunlight and temperature"
   ]
  },
  {
   "cell_type": "code",
   "execution_count": 14,
   "metadata": {},
   "outputs": [
    {
     "name": "stderr",
     "output_type": "stream",
     "text": [
      "/home/eric/anaconda3/lib/python3.6/site-packages/scipy/stats/stats.py:1713: FutureWarning: Using a non-tuple sequence for multidimensional indexing is deprecated; use `arr[tuple(seq)]` instead of `arr[seq]`. In the future this will be interpreted as an array index, `arr[np.array(seq)]`, which will result either in an error or a different result.\n",
      "  return np.add.reduce(sorted[indexer] * weights, axis=axis) / sumval\n"
     ]
    },
    {
     "data": {
      "text/plain": [
       "<matplotlib.legend.Legend at 0x7f79483bb0b8>"
      ]
     },
     "execution_count": 14,
     "metadata": {},
     "output_type": "execute_result"
    },
    {
     "data": {
      "image/png": "[encoded data removed]",
      "text/plain": [
       "<Figure size 432x288 with 1 Axes>"
      ]
     },
     "metadata": {},
     "output_type": "display_data"
    }
   ],
   "source": [
    "for i in range(1, 8): #Loop through cover types and plot kde for aspect\n",
    "    g = sns.kdeplot(df_train['Aspect'][df_train['Cover_Type'] == i], color=cust_palette[i])\n",
    "sns.set_style('dark')\n",
    "g.legend(range(1, 8), bbox_to_anchor=(1.22, 1.02), title='Cover_Type')"
   ]
  },
  {
   "cell_type": "code",
   "execution_count": 15,
   "metadata": {},
   "outputs": [
    {
     "data": {
      "image/png": "[encoded data removed]",
      "text/plain": [
       "<Figure size 3960x576 with 7 Axes>"
      ]
     },
     "metadata": {},
     "output_type": "display_data"
    }
   ],
   "source": [
    "fig, axs = plt.subplots(1, 7, sharey=True, figsize=(55, 8)) #Plot histograms for aspect of each cover type\n",
    "\n",
    "for i in range(7):\n",
    "    axs[i].hist(df_train['Aspect'][df_train['Cover_Type'] == i+1], color=cust_palette[i+1])\n",
    "    axs[i].set_title('Cover_Type{}'.format(i+1))"
   ]
  },
  {
   "cell_type": "markdown",
   "metadata": {},
   "source": [
    "CTs 4, 5, 6 (and to a lesser extent 1 and 7) display a tendency to appear at certain aspects, which overlap  \n",
    "**Note**  \n",
    "Consider normalizing Aspect for use in model  \n",
    "Or add feature for Aspect bands, eg 50-150, 150-300, and 300-50 (not sure if a weak categorical feature is better than a continuous one, or none at all)"
   ]
  },
  {
   "cell_type": "markdown",
   "metadata": {},
   "source": [
    "Had considered adding feature for low slope, ie < 20. Examine that more closely"
   ]
  },
  {
   "cell_type": "code",
   "execution_count": 16,
   "metadata": {},
   "outputs": [
    {
     "data": {
      "text/html": [
       "<div>\n",
       "<style scoped>\n",
       "    .dataframe tbody tr th:only-of-type {\n",
       "        vertical-align: middle;\n",
       "    }\n",
       "\n",
       "    .dataframe tbody tr th {\n",
       "        vertical-align: top;\n",
       "    }\n",
       "\n",
       "    .dataframe thead tr th {\n",
       "        text-align: left;\n",
       "    }\n",
       "\n",
       "    .dataframe thead tr:last-of-type th {\n",
       "        text-align: right;\n",
       "    }\n",
       "</style>\n",
       "<table border=\"1\" class=\"dataframe\">\n",
       "  <thead>\n",
       "    <tr>\n",
       "      <th></th>\n",
       "      <th colspan=\"8\" halign=\"left\">Slope</th>\n",
       "    </tr>\n",
       "    <tr>\n",
       "      <th></th>\n",
       "      <th>count</th>\n",
       "      <th>mean</th>\n",
       "      <th>std</th>\n",
       "      <th>min</th>\n",
       "      <th>25%</th>\n",
       "      <th>50%</th>\n",
       "      <th>75%</th>\n",
       "      <th>max</th>\n",
       "    </tr>\n",
       "    <tr>\n",
       "      <th>Cover_Type</th>\n",
       "      <th></th>\n",
       "      <th></th>\n",
       "      <th></th>\n",
       "      <th></th>\n",
       "      <th></th>\n",
       "      <th></th>\n",
       "      <th></th>\n",
       "      <th></th>\n",
       "    </tr>\n",
       "  </thead>\n",
       "  <tbody>\n",
       "    <tr>\n",
       "      <th>1</th>\n",
       "      <td>2160.0</td>\n",
       "      <td>13.112963</td>\n",
       "      <td>6.817153</td>\n",
       "      <td>1.0</td>\n",
       "      <td>8.0</td>\n",
       "      <td>12.0</td>\n",
       "      <td>17.0</td>\n",
       "      <td>41.0</td>\n",
       "    </tr>\n",
       "    <tr>\n",
       "      <th>2</th>\n",
       "      <td>2160.0</td>\n",
       "      <td>13.423611</td>\n",
       "      <td>7.038483</td>\n",
       "      <td>0.0</td>\n",
       "      <td>8.0</td>\n",
       "      <td>13.0</td>\n",
       "      <td>17.0</td>\n",
       "      <td>45.0</td>\n",
       "    </tr>\n",
       "    <tr>\n",
       "      <th>3</th>\n",
       "      <td>2160.0</td>\n",
       "      <td>20.628704</td>\n",
       "      <td>8.888591</td>\n",
       "      <td>1.0</td>\n",
       "      <td>14.0</td>\n",
       "      <td>21.0</td>\n",
       "      <td>27.0</td>\n",
       "      <td>47.0</td>\n",
       "    </tr>\n",
       "    <tr>\n",
       "      <th>4</th>\n",
       "      <td>2160.0</td>\n",
       "      <td>18.468519</td>\n",
       "      <td>9.361156</td>\n",
       "      <td>1.0</td>\n",
       "      <td>10.0</td>\n",
       "      <td>18.0</td>\n",
       "      <td>26.0</td>\n",
       "      <td>46.0</td>\n",
       "    </tr>\n",
       "    <tr>\n",
       "      <th>5</th>\n",
       "      <td>2160.0</td>\n",
       "      <td>16.724537</td>\n",
       "      <td>8.440048</td>\n",
       "      <td>1.0</td>\n",
       "      <td>10.0</td>\n",
       "      <td>16.0</td>\n",
       "      <td>22.0</td>\n",
       "      <td>50.0</td>\n",
       "    </tr>\n",
       "    <tr>\n",
       "      <th>6</th>\n",
       "      <td>2160.0</td>\n",
       "      <td>18.986111</td>\n",
       "      <td>7.714618</td>\n",
       "      <td>1.0</td>\n",
       "      <td>13.0</td>\n",
       "      <td>19.0</td>\n",
       "      <td>24.0</td>\n",
       "      <td>52.0</td>\n",
       "    </tr>\n",
       "    <tr>\n",
       "      <th>7</th>\n",
       "      <td>2160.0</td>\n",
       "      <td>14.166667</td>\n",
       "      <td>7.315810</td>\n",
       "      <td>0.0</td>\n",
       "      <td>9.0</td>\n",
       "      <td>13.0</td>\n",
       "      <td>18.0</td>\n",
       "      <td>49.0</td>\n",
       "    </tr>\n",
       "  </tbody>\n",
       "</table>\n",
       "</div>"
      ],
      "text/plain": [
       "             Slope                                                  \n",
       "             count       mean       std  min   25%   50%   75%   max\n",
       "Cover_Type                                                          \n",
       "1           2160.0  13.112963  6.817153  1.0   8.0  12.0  17.0  41.0\n",
       "2           2160.0  13.423611  7.038483  0.0   8.0  13.0  17.0  45.0\n",
       "3           2160.0  20.628704  8.888591  1.0  14.0  21.0  27.0  47.0\n",
       "4           2160.0  18.468519  9.361156  1.0  10.0  18.0  26.0  46.0\n",
       "5           2160.0  16.724537  8.440048  1.0  10.0  16.0  22.0  50.0\n",
       "6           2160.0  18.986111  7.714618  1.0  13.0  19.0  24.0  52.0\n",
       "7           2160.0  14.166667  7.315810  0.0   9.0  13.0  18.0  49.0"
      ]
     },
     "execution_count": 16,
     "metadata": {},
     "output_type": "execute_result"
    }
   ],
   "source": [
    "df_train[['Slope']].groupby(by=df_train['Cover_Type']).describe()"
   ]
  },
  {
   "cell_type": "markdown",
   "metadata": {},
   "source": [
    "CTs 1, 2 and 7 may be correlated with low slopes  \n",
    "Don't see strong differences among the other CTs, CT 3 may be most strongly correlated with high slopes"
   ]
  },
  {
   "cell_type": "markdown",
   "metadata": {},
   "source": [
    "**Note**  \n",
    "Tend to see same CTs clustered together (1, 2, 7 and others)  \n",
    "Consider need to differentiate within these clusters, ie further feature engineering on soil types"
   ]
  },
  {
   "cell_type": "code",
   "execution_count": 17,
   "metadata": {},
   "outputs": [
    {
     "name": "stderr",
     "output_type": "stream",
     "text": [
      "/home/eric/anaconda3/lib/python3.6/site-packages/scipy/stats/stats.py:1713: FutureWarning: Using a non-tuple sequence for multidimensional indexing is deprecated; use `arr[tuple(seq)]` instead of `arr[seq]`. In the future this will be interpreted as an array index, `arr[np.array(seq)]`, which will result either in an error or a different result.\n",
      "  return np.add.reduce(sorted[indexer] * weights, axis=axis) / sumval\n"
     ]
    },
    {
     "data": {
      "text/plain": [
       "<matplotlib.legend.Legend at 0x7f794794a588>"
      ]
     },
     "execution_count": 17,
     "metadata": {},
     "output_type": "execute_result"
    },
    {
     "data": {
      "image/png": "[encoded data removed]",
      "text/plain": [
       "<Figure size 432x288 with 1 Axes>"
      ]
     },
     "metadata": {},
     "output_type": "display_data"
    }
   ],
   "source": [
    "for i in range(1, 8): #Loop through cover types and plot kde for aspect\n",
    "    g = sns.kdeplot(df_train['Slope'][df_train['Cover_Type'] == i], color=cust_palette[i])\n",
    "sns.set_style('dark')\n",
    "g.legend(range(1, 8), bbox_to_anchor=(1.22, 1.02), title='Cover_Type')"
   ]
  },
  {
   "cell_type": "markdown",
   "metadata": {},
   "source": [
    "CTs 1, 2 and 7 have unimodal distribution with peak at low-valued slopes  \n",
    "CTs 4, 3 and 5 have bimodal distributions, of decreasing clarity. These and CT 7 have peaks at higher-valued slopes  \n",
    "CTs 5, 4, and to a lesser extent 3 and 7 overlap with the peaks of the lower-valued CTs"
   ]
  },
  {
   "cell_type": "markdown",
   "metadata": {},
   "source": [
    "Look at percentiles for Slope by CT  \n",
    "Consider feature splitting at slope ~15"
   ]
  },
  {
   "cell_type": "code",
   "execution_count": 18,
   "metadata": {},
   "outputs": [
    {
     "name": "stdout",
     "output_type": "stream",
     "text": [
      "1 [18. 20. 23. 26.]\n",
      "2 [19. 21. 23. 27.]\n",
      "3 [29. 30. 33. 35.]\n",
      "4 [27. 29. 31. 34.]\n",
      "5 [24. 26. 28. 31.]\n",
      "6 [26. 27. 29. 32.]\n",
      "7 [19. 21. 23. 29.]\n"
     ]
    }
   ],
   "source": [
    "for i in range(1, 8): #Look at high percentiles of slope\n",
    "    print(i, np.percentile(df_train['Slope'][df_train['Cover_Type'] == i], [80, 85, 90, 95]))"
   ]
  },
  {
   "cell_type": "markdown",
   "metadata": {},
   "source": [
    "Slope of 23 is the 90th percentile for CTs 1, 2, and 7  \n",
    "*Would this make a good feature?*"
   ]
  },
  {
   "cell_type": "code",
   "execution_count": 19,
   "metadata": {},
   "outputs": [
    {
     "name": "stdout",
     "output_type": "stream",
     "text": [
      "1 0.9120370370370371\n",
      "2 0.9106481481481481\n",
      "3 0.6162037037037037\n",
      "4 0.6800925925925926\n",
      "5 0.7824074074074074\n",
      "6 0.7106481481481481\n",
      "7 0.9004629629629629\n"
     ]
    }
   ],
   "source": [
    "for i in range(1, 8): #Look at cdf of CT at slope 23\n",
    "    print(i, sum(df_train['Slope'][df_train['Cover_Type'] == i] <= 23) / 2160) #All CTs having count 2160 comes in handy"
   ]
  },
  {
   "cell_type": "code",
   "execution_count": 20,
   "metadata": {},
   "outputs": [
    {
     "name": "stdout",
     "output_type": "stream",
     "text": [
      "1 0.8953703703703704\n",
      "2 0.8898148148148148\n",
      "3 0.5717592592592593\n",
      "4 0.6449074074074074\n",
      "5 0.7509259259259259\n",
      "6 0.6675925925925926\n",
      "7 0.8837962962962963\n"
     ]
    }
   ],
   "source": [
    "for i in range(1, 8): #Look at cdf of CT at slope 23\n",
    "    print(i, sum(df_train['Slope'][df_train['Cover_Type'] == i] < 23) / 2160) #All CTs having count 2160 comes in handy"
   ]
  },
  {
   "cell_type": "markdown",
   "metadata": {},
   "source": [
    "Between <= 23 and < 23, I think there is a stronger relationship in the latter  \n",
    "Add feature for slope greater than 22, haven't made up my mind on whether to use it"
   ]
  },
  {
   "cell_type": "code",
   "execution_count": 21,
   "metadata": {},
   "outputs": [],
   "source": [
    "def funcSlopeGT22(row):\n",
    "    if row < 23:\n",
    "        return 0\n",
    "    else:\n",
    "        return 1\n",
    "combine['Slope_GT_22'] = combine['Slope'].apply(funcSlopeGT22)"
   ]
  },
  {
   "cell_type": "markdown",
   "metadata": {},
   "source": [
    "Wanted to examine relationship between high HDH and CTs 1, 2 and 7"
   ]
  },
  {
   "cell_type": "code",
   "execution_count": 22,
   "metadata": {},
   "outputs": [
    {
     "data": {
      "text/html": [
       "<div>\n",
       "<style scoped>\n",
       "    .dataframe tbody tr th:only-of-type {\n",
       "        vertical-align: middle;\n",
       "    }\n",
       "\n",
       "    .dataframe tbody tr th {\n",
       "        vertical-align: top;\n",
       "    }\n",
       "\n",
       "    .dataframe thead tr th {\n",
       "        text-align: left;\n",
       "    }\n",
       "\n",
       "    .dataframe thead tr:last-of-type th {\n",
       "        text-align: right;\n",
       "    }\n",
       "</style>\n",
       "<table border=\"1\" class=\"dataframe\">\n",
       "  <thead>\n",
       "    <tr>\n",
       "      <th></th>\n",
       "      <th colspan=\"8\" halign=\"left\">Horizontal_Distance_To_Hydrology</th>\n",
       "    </tr>\n",
       "    <tr>\n",
       "      <th></th>\n",
       "      <th>count</th>\n",
       "      <th>mean</th>\n",
       "      <th>std</th>\n",
       "      <th>min</th>\n",
       "      <th>25%</th>\n",
       "      <th>50%</th>\n",
       "      <th>75%</th>\n",
       "      <th>max</th>\n",
       "    </tr>\n",
       "    <tr>\n",
       "      <th>Cover_Type</th>\n",
       "      <th></th>\n",
       "      <th></th>\n",
       "      <th></th>\n",
       "      <th></th>\n",
       "      <th></th>\n",
       "      <th></th>\n",
       "      <th></th>\n",
       "      <th></th>\n",
       "    </tr>\n",
       "  </thead>\n",
       "  <tbody>\n",
       "    <tr>\n",
       "      <th>1</th>\n",
       "      <td>2160.0</td>\n",
       "      <td>271.507407</td>\n",
       "      <td>221.250993</td>\n",
       "      <td>0.0</td>\n",
       "      <td>90.0</td>\n",
       "      <td>218.0</td>\n",
       "      <td>395.0</td>\n",
       "      <td>1129.0</td>\n",
       "    </tr>\n",
       "    <tr>\n",
       "      <th>2</th>\n",
       "      <td>2160.0</td>\n",
       "      <td>287.728704</td>\n",
       "      <td>215.373206</td>\n",
       "      <td>0.0</td>\n",
       "      <td>124.0</td>\n",
       "      <td>242.0</td>\n",
       "      <td>404.0</td>\n",
       "      <td>1343.0</td>\n",
       "    </tr>\n",
       "    <tr>\n",
       "      <th>3</th>\n",
       "      <td>2160.0</td>\n",
       "      <td>210.723148</td>\n",
       "      <td>142.053957</td>\n",
       "      <td>0.0</td>\n",
       "      <td>90.0</td>\n",
       "      <td>190.0</td>\n",
       "      <td>306.0</td>\n",
       "      <td>700.0</td>\n",
       "    </tr>\n",
       "    <tr>\n",
       "      <th>4</th>\n",
       "      <td>2160.0</td>\n",
       "      <td>104.537500</td>\n",
       "      <td>138.452917</td>\n",
       "      <td>0.0</td>\n",
       "      <td>0.0</td>\n",
       "      <td>30.0</td>\n",
       "      <td>192.0</td>\n",
       "      <td>551.0</td>\n",
       "    </tr>\n",
       "    <tr>\n",
       "      <th>5</th>\n",
       "      <td>2160.0</td>\n",
       "      <td>208.873148</td>\n",
       "      <td>179.159524</td>\n",
       "      <td>0.0</td>\n",
       "      <td>85.0</td>\n",
       "      <td>170.0</td>\n",
       "      <td>295.0</td>\n",
       "      <td>1082.0</td>\n",
       "    </tr>\n",
       "    <tr>\n",
       "      <th>6</th>\n",
       "      <td>2160.0</td>\n",
       "      <td>160.095370</td>\n",
       "      <td>125.770515</td>\n",
       "      <td>0.0</td>\n",
       "      <td>60.0</td>\n",
       "      <td>134.0</td>\n",
       "      <td>240.0</td>\n",
       "      <td>624.0</td>\n",
       "    </tr>\n",
       "    <tr>\n",
       "      <th>7</th>\n",
       "      <td>2160.0</td>\n",
       "      <td>346.904630</td>\n",
       "      <td>293.786336</td>\n",
       "      <td>0.0</td>\n",
       "      <td>108.0</td>\n",
       "      <td>270.0</td>\n",
       "      <td>511.0</td>\n",
       "      <td>1294.0</td>\n",
       "    </tr>\n",
       "  </tbody>\n",
       "</table>\n",
       "</div>"
      ],
      "text/plain": [
       "           Horizontal_Distance_To_Hydrology                               \\\n",
       "                                      count        mean         std  min   \n",
       "Cover_Type                                                                 \n",
       "1                                    2160.0  271.507407  221.250993  0.0   \n",
       "2                                    2160.0  287.728704  215.373206  0.0   \n",
       "3                                    2160.0  210.723148  142.053957  0.0   \n",
       "4                                    2160.0  104.537500  138.452917  0.0   \n",
       "5                                    2160.0  208.873148  179.159524  0.0   \n",
       "6                                    2160.0  160.095370  125.770515  0.0   \n",
       "7                                    2160.0  346.904630  293.786336  0.0   \n",
       "\n",
       "                                         \n",
       "              25%    50%    75%     max  \n",
       "Cover_Type                               \n",
       "1            90.0  218.0  395.0  1129.0  \n",
       "2           124.0  242.0  404.0  1343.0  \n",
       "3            90.0  190.0  306.0   700.0  \n",
       "4             0.0   30.0  192.0   551.0  \n",
       "5            85.0  170.0  295.0  1082.0  \n",
       "6            60.0  134.0  240.0   624.0  \n",
       "7           108.0  270.0  511.0  1294.0  "
      ]
     },
     "execution_count": 22,
     "metadata": {},
     "output_type": "execute_result"
    }
   ],
   "source": [
    "df_train[['Horizontal_Distance_To_Hydrology']].groupby(by=df_train['Cover_Type']).describe()"
   ]
  },
  {
   "cell_type": "markdown",
   "metadata": {},
   "source": [
    "CTs 1, 2 and 7 have a higher mean HDH, CT 4 has a low mean HDH but also a low median  \n",
    "CTs 3, 4 and 6 have a low max HDH, all < 700  \n",
    "All CTs have high stds  \n",
    "**Notes**  \n",
    "Consider splitting HDH at low value to capture CT 4, at middle value to capture CTs 3 and 6  \n",
    "*Do I need to deal with outliers?*"
   ]
  },
  {
   "cell_type": "code",
   "execution_count": 23,
   "metadata": {},
   "outputs": [
    {
     "name": "stderr",
     "output_type": "stream",
     "text": [
      "/home/eric/anaconda3/lib/python3.6/site-packages/scipy/stats/stats.py:1713: FutureWarning: Using a non-tuple sequence for multidimensional indexing is deprecated; use `arr[tuple(seq)]` instead of `arr[seq]`. In the future this will be interpreted as an array index, `arr[np.array(seq)]`, which will result either in an error or a different result.\n",
      "  return np.add.reduce(sorted[indexer] * weights, axis=axis) / sumval\n"
     ]
    },
    {
     "data": {
      "text/plain": [
       "<matplotlib.legend.Legend at 0x7f79478c9ef0>"
      ]
     },
     "execution_count": 23,
     "metadata": {},
     "output_type": "execute_result"
    },
    {
     "data": {
      "image/png": "[encoded data removed]",
      "text/plain": [
       "<Figure size 432x288 with 1 Axes>"
      ]
     },
     "metadata": {},
     "output_type": "display_data"
    }
   ],
   "source": [
    "for i in range(1, 8): #Loop through cover types and plot kde for HDH\n",
    "    g = sns.kdeplot(df_train['Horizontal_Distance_To_Hydrology'][df_train['Cover_Type'] == i], color=cust_palette[i])\n",
    "sns.set_style('dark')\n",
    "g.legend(range(1, 8), bbox_to_anchor=(1.22, 1.02), title='Cover_Type')"
   ]
  },
  {
   "cell_type": "markdown",
   "metadata": {},
   "source": [
    "As observed above, CT 4 has a major spike at ~0  \n",
    "CTs 6, ~3 and ~5 also peak at low HDH"
   ]
  },
  {
   "cell_type": "markdown",
   "metadata": {},
   "source": [
    "Calculate percentiles for a categorical feature"
   ]
  },
  {
   "cell_type": "code",
   "execution_count": 24,
   "metadata": {},
   "outputs": [
    {
     "name": "stdout",
     "output_type": "stream",
     "text": [
      "1 [395.  446.  511.  598.2 721. ]\n",
      "2 [404.  451.  499.6 579.  696.1]\n",
      "3 [306.   331.   361.   408.   480.05]\n",
      "4 [192. 234. 283. 339. 395.]\n",
      "5 [295.  325.2 362.  433.4 577.1]\n",
      "6 [240. 268. 300. 350. 395.]\n",
      "7 [511.   558.   641.45 800.   990.  ]\n"
     ]
    }
   ],
   "source": [
    "for i in range(1, 8): #Look at high percentiles of HDH\n",
    "    print(i, np.percentile(df_train['Horizontal_Distance_To_Hydrology'][df_train['Cover_Type'] == i], [75, 80, 85, 90, 95]))"
   ]
  },
  {
   "cell_type": "markdown",
   "metadata": {},
   "source": [
    "Rethinking merits of splitting HDH  \n",
    "Write new feature splitting at 200, 300, and 400  \n",
    "*Unsure whether it will have any merits*"
   ]
  },
  {
   "cell_type": "code",
   "execution_count": 25,
   "metadata": {},
   "outputs": [],
   "source": [
    "def funcHDH4(row): #Split HDH into four categories\n",
    "    if row < 200:\n",
    "        return 0\n",
    "    elif row >= 200 & row < 300:\n",
    "        return 1\n",
    "    elif row >= 300 & row < 400:\n",
    "        return 2\n",
    "    else:\n",
    "        return 3\n",
    "combine['HDH4'] = combine['Horizontal_Distance_To_Hydrology'].apply(funcHDH4)"
   ]
  },
  {
   "cell_type": "markdown",
   "metadata": {},
   "source": [
    "Had considered relationships between VDH and CT at VDH <0 and >200"
   ]
  },
  {
   "cell_type": "code",
   "execution_count": 26,
   "metadata": {},
   "outputs": [
    {
     "data": {
      "text/html": [
       "<div>\n",
       "<style scoped>\n",
       "    .dataframe tbody tr th:only-of-type {\n",
       "        vertical-align: middle;\n",
       "    }\n",
       "\n",
       "    .dataframe tbody tr th {\n",
       "        vertical-align: top;\n",
       "    }\n",
       "\n",
       "    .dataframe thead th {\n",
       "        text-align: right;\n",
       "    }\n",
       "</style>\n",
       "<table border=\"1\" class=\"dataframe\">\n",
       "  <thead>\n",
       "    <tr style=\"text-align: right;\">\n",
       "      <th></th>\n",
       "      <th>count</th>\n",
       "      <th>mean</th>\n",
       "      <th>std</th>\n",
       "      <th>min</th>\n",
       "      <th>25%</th>\n",
       "      <th>50%</th>\n",
       "      <th>75%</th>\n",
       "      <th>max</th>\n",
       "    </tr>\n",
       "    <tr>\n",
       "      <th>Cover_Type</th>\n",
       "      <th></th>\n",
       "      <th></th>\n",
       "      <th></th>\n",
       "      <th></th>\n",
       "      <th></th>\n",
       "      <th></th>\n",
       "      <th></th>\n",
       "      <th></th>\n",
       "    </tr>\n",
       "  </thead>\n",
       "  <tbody>\n",
       "    <tr>\n",
       "      <th>1</th>\n",
       "      <td>2160.0</td>\n",
       "      <td>41.281481</td>\n",
       "      <td>55.740461</td>\n",
       "      <td>-97.0</td>\n",
       "      <td>4.0</td>\n",
       "      <td>23.0</td>\n",
       "      <td>61.00</td>\n",
       "      <td>411.0</td>\n",
       "    </tr>\n",
       "    <tr>\n",
       "      <th>2</th>\n",
       "      <td>2160.0</td>\n",
       "      <td>47.337963</td>\n",
       "      <td>59.137843</td>\n",
       "      <td>-146.0</td>\n",
       "      <td>9.0</td>\n",
       "      <td>31.0</td>\n",
       "      <td>68.00</td>\n",
       "      <td>554.0</td>\n",
       "    </tr>\n",
       "    <tr>\n",
       "      <th>3</th>\n",
       "      <td>2160.0</td>\n",
       "      <td>64.081944</td>\n",
       "      <td>58.333807</td>\n",
       "      <td>-115.0</td>\n",
       "      <td>19.0</td>\n",
       "      <td>51.0</td>\n",
       "      <td>97.00</td>\n",
       "      <td>275.0</td>\n",
       "    </tr>\n",
       "    <tr>\n",
       "      <th>4</th>\n",
       "      <td>2160.0</td>\n",
       "      <td>40.143519</td>\n",
       "      <td>58.343108</td>\n",
       "      <td>-25.0</td>\n",
       "      <td>0.0</td>\n",
       "      <td>6.0</td>\n",
       "      <td>69.00</td>\n",
       "      <td>270.0</td>\n",
       "    </tr>\n",
       "    <tr>\n",
       "      <th>5</th>\n",
       "      <td>2160.0</td>\n",
       "      <td>50.871296</td>\n",
       "      <td>58.463641</td>\n",
       "      <td>-134.0</td>\n",
       "      <td>5.0</td>\n",
       "      <td>35.0</td>\n",
       "      <td>82.00</td>\n",
       "      <td>262.0</td>\n",
       "    </tr>\n",
       "    <tr>\n",
       "      <th>6</th>\n",
       "      <td>2160.0</td>\n",
       "      <td>44.873611</td>\n",
       "      <td>47.034674</td>\n",
       "      <td>-104.0</td>\n",
       "      <td>7.0</td>\n",
       "      <td>33.0</td>\n",
       "      <td>73.00</td>\n",
       "      <td>249.0</td>\n",
       "    </tr>\n",
       "    <tr>\n",
       "      <th>7</th>\n",
       "      <td>2160.0</td>\n",
       "      <td>68.945833</td>\n",
       "      <td>80.400320</td>\n",
       "      <td>-74.0</td>\n",
       "      <td>8.0</td>\n",
       "      <td>42.0</td>\n",
       "      <td>106.25</td>\n",
       "      <td>403.0</td>\n",
       "    </tr>\n",
       "  </tbody>\n",
       "</table>\n",
       "</div>"
      ],
      "text/plain": [
       "             count       mean        std    min   25%   50%     75%    max\n",
       "Cover_Type                                                                \n",
       "1           2160.0  41.281481  55.740461  -97.0   4.0  23.0   61.00  411.0\n",
       "2           2160.0  47.337963  59.137843 -146.0   9.0  31.0   68.00  554.0\n",
       "3           2160.0  64.081944  58.333807 -115.0  19.0  51.0   97.00  275.0\n",
       "4           2160.0  40.143519  58.343108  -25.0   0.0   6.0   69.00  270.0\n",
       "5           2160.0  50.871296  58.463641 -134.0   5.0  35.0   82.00  262.0\n",
       "6           2160.0  44.873611  47.034674 -104.0   7.0  33.0   73.00  249.0\n",
       "7           2160.0  68.945833  80.400320  -74.0   8.0  42.0  106.25  403.0"
      ]
     },
     "execution_count": 26,
     "metadata": {},
     "output_type": "execute_result"
    }
   ],
   "source": [
    "df_train['Vertical_Distance_To_Hydrology'].groupby(by=df_train['Cover_Type']).describe()"
   ]
  },
  {
   "cell_type": "markdown",
   "metadata": {},
   "source": [
    "Again CTs 1, 2 and 7 display similarities, with the highest max VDHs  \n",
    "Interestingly, the mean VDHs of CTs 1 and 2 are not among the 3 highest, although CT 7 has the highest mean VDH (and std)  \n",
    "**Notes**  \n",
    "Look more closely at CTs by VDH at VDH <0  \n",
    "*Possibility of confusion with measurements close to 0, look more closely at the clustering at low VDH*  \n",
    "Consider feature splitting VDH at ~150-250 to differentiate between CTs 1, 2, 7 and the rest"
   ]
  },
  {
   "cell_type": "markdown",
   "metadata": {},
   "source": [
    "Examine negative VDH"
   ]
  },
  {
   "cell_type": "code",
   "execution_count": 27,
   "metadata": {},
   "outputs": [
    {
     "data": {
      "text/html": [
       "<div>\n",
       "<style scoped>\n",
       "    .dataframe tbody tr th:only-of-type {\n",
       "        vertical-align: middle;\n",
       "    }\n",
       "\n",
       "    .dataframe tbody tr th {\n",
       "        vertical-align: top;\n",
       "    }\n",
       "\n",
       "    .dataframe thead th {\n",
       "        text-align: right;\n",
       "    }\n",
       "</style>\n",
       "<table border=\"1\" class=\"dataframe\">\n",
       "  <thead>\n",
       "    <tr style=\"text-align: right;\">\n",
       "      <th></th>\n",
       "      <th>count</th>\n",
       "      <th>mean</th>\n",
       "      <th>std</th>\n",
       "      <th>min</th>\n",
       "      <th>25%</th>\n",
       "      <th>50%</th>\n",
       "      <th>75%</th>\n",
       "      <th>max</th>\n",
       "    </tr>\n",
       "    <tr>\n",
       "      <th>Cover_Type</th>\n",
       "      <th></th>\n",
       "      <th></th>\n",
       "      <th></th>\n",
       "      <th></th>\n",
       "      <th></th>\n",
       "      <th></th>\n",
       "      <th></th>\n",
       "      <th></th>\n",
       "    </tr>\n",
       "  </thead>\n",
       "  <tbody>\n",
       "    <tr>\n",
       "      <th>1</th>\n",
       "      <td>241.0</td>\n",
       "      <td>-14.672199</td>\n",
       "      <td>17.657990</td>\n",
       "      <td>-97.0</td>\n",
       "      <td>-19.00</td>\n",
       "      <td>-8.0</td>\n",
       "      <td>-3.00</td>\n",
       "      <td>-1.0</td>\n",
       "    </tr>\n",
       "    <tr>\n",
       "      <th>2</th>\n",
       "      <td>186.0</td>\n",
       "      <td>-17.182796</td>\n",
       "      <td>21.198902</td>\n",
       "      <td>-146.0</td>\n",
       "      <td>-23.00</td>\n",
       "      <td>-8.0</td>\n",
       "      <td>-3.25</td>\n",
       "      <td>-1.0</td>\n",
       "    </tr>\n",
       "    <tr>\n",
       "      <th>3</th>\n",
       "      <td>117.0</td>\n",
       "      <td>-18.572650</td>\n",
       "      <td>22.116976</td>\n",
       "      <td>-115.0</td>\n",
       "      <td>-26.00</td>\n",
       "      <td>-11.0</td>\n",
       "      <td>-3.00</td>\n",
       "      <td>-1.0</td>\n",
       "    </tr>\n",
       "    <tr>\n",
       "      <th>4</th>\n",
       "      <td>51.0</td>\n",
       "      <td>-5.588235</td>\n",
       "      <td>5.430199</td>\n",
       "      <td>-25.0</td>\n",
       "      <td>-8.00</td>\n",
       "      <td>-3.0</td>\n",
       "      <td>-2.00</td>\n",
       "      <td>-1.0</td>\n",
       "    </tr>\n",
       "    <tr>\n",
       "      <th>5</th>\n",
       "      <td>200.0</td>\n",
       "      <td>-18.015000</td>\n",
       "      <td>24.968820</td>\n",
       "      <td>-134.0</td>\n",
       "      <td>-20.25</td>\n",
       "      <td>-7.0</td>\n",
       "      <td>-3.00</td>\n",
       "      <td>-1.0</td>\n",
       "    </tr>\n",
       "    <tr>\n",
       "      <th>6</th>\n",
       "      <td>144.0</td>\n",
       "      <td>-13.354167</td>\n",
       "      <td>17.176773</td>\n",
       "      <td>-104.0</td>\n",
       "      <td>-17.00</td>\n",
       "      <td>-7.0</td>\n",
       "      <td>-3.00</td>\n",
       "      <td>-1.0</td>\n",
       "    </tr>\n",
       "    <tr>\n",
       "      <th>7</th>\n",
       "      <td>200.0</td>\n",
       "      <td>-12.495000</td>\n",
       "      <td>15.501985</td>\n",
       "      <td>-74.0</td>\n",
       "      <td>-15.00</td>\n",
       "      <td>-6.0</td>\n",
       "      <td>-3.00</td>\n",
       "      <td>-1.0</td>\n",
       "    </tr>\n",
       "  </tbody>\n",
       "</table>\n",
       "</div>"
      ],
      "text/plain": [
       "            count       mean        std    min    25%   50%   75%  max\n",
       "Cover_Type                                                            \n",
       "1           241.0 -14.672199  17.657990  -97.0 -19.00  -8.0 -3.00 -1.0\n",
       "2           186.0 -17.182796  21.198902 -146.0 -23.00  -8.0 -3.25 -1.0\n",
       "3           117.0 -18.572650  22.116976 -115.0 -26.00 -11.0 -3.00 -1.0\n",
       "4            51.0  -5.588235   5.430199  -25.0  -8.00  -3.0 -2.00 -1.0\n",
       "5           200.0 -18.015000  24.968820 -134.0 -20.25  -7.0 -3.00 -1.0\n",
       "6           144.0 -13.354167  17.176773 -104.0 -17.00  -7.0 -3.00 -1.0\n",
       "7           200.0 -12.495000  15.501985  -74.0 -15.00  -6.0 -3.00 -1.0"
      ]
     },
     "execution_count": 27,
     "metadata": {},
     "output_type": "execute_result"
    }
   ],
   "source": [
    "df_train['Vertical_Distance_To_Hydrology'][df_train['Vertical_Distance_To_Hydrology'] < 0].groupby(by=df_train['Cover_Type']).describe()"
   ]
  },
  {
   "cell_type": "markdown",
   "metadata": {},
   "source": [
    "CT 4 has the fewest negative VDH observations, CTs 1, 2 and 7 are among the highest counts (but not clearly so)  \n",
    "Want to visualize the negative data for a clearer description  \n",
    "**Notes**  \n",
    "No VDH values between -1 and 0, so that may be a feature of the measurement protocol  "
   ]
  },
  {
   "cell_type": "code",
   "execution_count": 28,
   "metadata": {},
   "outputs": [
    {
     "data": {
      "image/png": "[encoded data removed]",
      "text/plain": [
       "<Figure size 3600x432 with 7 Axes>"
      ]
     },
     "metadata": {},
     "output_type": "display_data"
    }
   ],
   "source": [
    "fig, axs = plt.subplots(1, 7, sharex=True, figsize=(50, 6)) #Plot histograms for VDH for negative VDHs for each cover type\n",
    "\n",
    "for i in range(7):\n",
    "    axs[i].hist(df_train['Vertical_Distance_To_Hydrology'][df_train['Vertical_Distance_To_Hydrology'] < 0][df_train['Cover_Type'] == i+1], color=cust_palette[i+1])\n",
    "    axs[i].set_title('Cover_Type{}'.format(i+1))"
   ]
  },
  {
   "cell_type": "markdown",
   "metadata": {},
   "source": [
    "As expected, CT 4 is clustered near 0  \n",
    "**Notes**  \n",
    "Do not see convincing relationship between negative VDH and Cover Type"
   ]
  },
  {
   "cell_type": "markdown",
   "metadata": {},
   "source": [
    "Look at values of VDH close to 0"
   ]
  },
  {
   "cell_type": "code",
   "execution_count": 29,
   "metadata": {},
   "outputs": [
    {
     "data": {
      "text/plain": [
       "Cover_Type\n",
       "1    177\n",
       "2    127\n",
       "3     80\n",
       "4    922\n",
       "5    203\n",
       "6    226\n",
       "7    155\n",
       "Name: Vertical_Distance_To_Hydrology, dtype: int64"
      ]
     },
     "execution_count": 29,
     "metadata": {},
     "output_type": "execute_result"
    }
   ],
   "source": [
    "vdh0 = df_train['Vertical_Distance_To_Hydrology'][df_train['Vertical_Distance_To_Hydrology'] == 0].groupby(by=df_train['Cover_Type']).count()\n",
    "vdh0"
   ]
  },
  {
   "cell_type": "code",
   "execution_count": 30,
   "metadata": {},
   "outputs": [
    {
     "data": {
      "text/plain": [
       "Cover_Type\n",
       "1    0.081944\n",
       "2    0.058796\n",
       "3    0.037037\n",
       "4    0.426852\n",
       "5    0.093981\n",
       "6    0.104630\n",
       "7    0.071759\n",
       "Name: Vertical_Distance_To_Hydrology, dtype: float64"
      ]
     },
     "execution_count": 30,
     "metadata": {},
     "output_type": "execute_result"
    }
   ],
   "source": [
    "vdh0Prop = vdh0 / 2160 #Proportion of observations at VDH of 0 for each CT\n",
    "vdh0Prop"
   ]
  },
  {
   "cell_type": "code",
   "execution_count": 31,
   "metadata": {},
   "outputs": [
    {
     "data": {
      "text/plain": [
       "0.5121693121693122"
      ]
     },
     "execution_count": 31,
     "metadata": {},
     "output_type": "execute_result"
    }
   ],
   "source": [
    "vdh0Sum = sum(vdh0Prop)\n",
    "non4 = vdh0Sum - vdh0Prop[4]\n",
    "non4 / vdh0Sum"
   ]
  },
  {
   "cell_type": "markdown",
   "metadata": {},
   "source": [
    "**Notes**  \n",
    "Almost half of observations with vdh of 0 are of CT 4  \n",
    "Look at proportion of CTs at values around 0"
   ]
  },
  {
   "cell_type": "code",
   "execution_count": 32,
   "metadata": {},
   "outputs": [
    {
     "data": {
      "text/plain": [
       "Cover_Type\n",
       "1     351\n",
       "2     253\n",
       "3     142\n",
       "4    1001\n",
       "5     342\n",
       "6     349\n",
       "7     302\n",
       "Name: Vertical_Distance_To_Hydrology, dtype: int64"
      ]
     },
     "execution_count": 32,
     "metadata": {},
     "output_type": "execute_result"
    }
   ],
   "source": [
    "vdhNear0 = df_train['Vertical_Distance_To_Hydrology'][np.absolute(df_train['Vertical_Distance_To_Hydrology']) <= 3].groupby(by=df_train['Cover_Type']).count()\n",
    "vdhNear0\n",
    "#Chose values within 3 of 0 because -3 was a common 75th percentile in the above look at negative values of VDH"
   ]
  },
  {
   "cell_type": "code",
   "execution_count": 33,
   "metadata": {},
   "outputs": [
    {
     "data": {
      "text/plain": [
       "Cover_Type\n",
       "1    0.162500\n",
       "2    0.117130\n",
       "3    0.065741\n",
       "4    0.463426\n",
       "5    0.158333\n",
       "6    0.161574\n",
       "7    0.139815\n",
       "Name: Vertical_Distance_To_Hydrology, dtype: float64"
      ]
     },
     "execution_count": 33,
     "metadata": {},
     "output_type": "execute_result"
    }
   ],
   "source": [
    "vdhNear0Prop = vdhNear0 / 2160\n",
    "vdhNear0Prop"
   ]
  },
  {
   "cell_type": "markdown",
   "metadata": {},
   "source": [
    "For CT 4 there is not a large difference between the proportion of observations at 0 VDH and within 3 of 0  \n",
    "Had been considering a larger band than just category for VDH of 0, but I am now leaning towards a flag for zero VDH"
   ]
  },
  {
   "cell_type": "code",
   "execution_count": 34,
   "metadata": {},
   "outputs": [
    {
     "data": {
      "text/plain": [
       "0.6346715328467153"
      ]
     },
     "execution_count": 34,
     "metadata": {},
     "output_type": "execute_result"
    }
   ],
   "source": [
    "vdhNear0Sum = sum(vdhNear0Prop)\n",
    "non4Near0 = vdhNear0Sum - vdhNear0Prop[4]\n",
    "non4Near0 / vdhNear0Sum"
   ]
  },
  {
   "cell_type": "markdown",
   "metadata": {},
   "source": [
    "As observed above the predictive strength of a low absolute value VDH appears weaker than that of 0 VDH  \n",
    "**Notes**  \n",
    "Make a feature for 0 VDH"
   ]
  },
  {
   "cell_type": "code",
   "execution_count": 35,
   "metadata": {},
   "outputs": [],
   "source": [
    "def makeVDHnon0(row): #Make a feature for VDH of 0\n",
    "    if row == 0:\n",
    "        return 0\n",
    "    else:\n",
    "        return 1\n",
    "combine['VDH_non0'] = combine['Vertical_Distance_To_Hydrology'].apply(makeVDHnon0)"
   ]
  },
  {
   "cell_type": "markdown",
   "metadata": {},
   "source": [
    "Not sure of the usefulness, but I will make a feature for the sign of VDH"
   ]
  },
  {
   "cell_type": "code",
   "execution_count": 36,
   "metadata": {},
   "outputs": [],
   "source": [
    "def makeVDHSign(row): #Make a feature for the sign of VDH\n",
    "    if row < 0:\n",
    "        return -1\n",
    "    elif row == 0:\n",
    "        return 0\n",
    "    else:\n",
    "        return 1\n",
    "combine['VDH_Sign'] = combine['Vertical_Distance_To_Hydrology'].apply(makeVDHSign)"
   ]
  },
  {
   "cell_type": "markdown",
   "metadata": {},
   "source": [
    "Look at high values of VDH"
   ]
  },
  {
   "cell_type": "code",
   "execution_count": 37,
   "metadata": {},
   "outputs": [
    {
     "name": "stderr",
     "output_type": "stream",
     "text": [
      "/home/eric/anaconda3/lib/python3.6/site-packages/scipy/stats/stats.py:1713: FutureWarning: Using a non-tuple sequence for multidimensional indexing is deprecated; use `arr[tuple(seq)]` instead of `arr[seq]`. In the future this will be interpreted as an array index, `arr[np.array(seq)]`, which will result either in an error or a different result.\n",
      "  return np.add.reduce(sorted[indexer] * weights, axis=axis) / sumval\n"
     ]
    },
    {
     "data": {
      "text/plain": [
       "<matplotlib.legend.Legend at 0x7f7946ab0080>"
      ]
     },
     "execution_count": 37,
     "metadata": {},
     "output_type": "execute_result"
    },
    {
     "data": {
      "image/png": "[encoded data removed]",
      "text/plain": [
       "<Figure size 432x288 with 1 Axes>"
      ]
     },
     "metadata": {},
     "output_type": "display_data"
    }
   ],
   "source": [
    "for i in range(1, 8): #Loop through cover types and plot kde for VDH\n",
    "    g = sns.kdeplot(df_train['Vertical_Distance_To_Hydrology'][df_train['Cover_Type'] == i], color=cust_palette[i])\n",
    "sns.set_style('dark')\n",
    "g.legend(range(1, 8), bbox_to_anchor=(1.22, 1.02), title='Cover_Type')"
   ]
  },
  {
   "cell_type": "markdown",
   "metadata": {},
   "source": [
    "No new insights?  \n",
    "There is clustering at low values for CT 4 in particular, and much less for CTs 3 and 7  \n",
    "**Notes**  \n",
    "Look at proportion of CTs for VDH >150 and >200"
   ]
  },
  {
   "cell_type": "code",
   "execution_count": 38,
   "metadata": {},
   "outputs": [
    {
     "data": {
      "text/plain": [
       "Cover_Type\n",
       "1    128\n",
       "2    126\n",
       "3    217\n",
       "4    159\n",
       "5    157\n",
       "6     66\n",
       "7    337\n",
       "Name: Vertical_Distance_To_Hydrology, dtype: int64"
      ]
     },
     "execution_count": 38,
     "metadata": {},
     "output_type": "execute_result"
    }
   ],
   "source": [
    "vdhGT150 = df_train['Vertical_Distance_To_Hydrology'][df_train['Vertical_Distance_To_Hydrology'] > 150].groupby(by=df_train['Cover_Type']).count()\n",
    "vdhGT150"
   ]
  },
  {
   "cell_type": "code",
   "execution_count": 39,
   "metadata": {},
   "outputs": [
    {
     "data": {
      "text/plain": [
       "0.46554621848739497"
      ]
     },
     "execution_count": 39,
     "metadata": {},
     "output_type": "execute_result"
    }
   ],
   "source": [
    "vdhGT150a = sum([vdhGT150[i] for i in [3, 7]])\n",
    "vdhGT150Sum = sum(vdhGT150)\n",
    "vdhGT150a / vdhGT150Sum"
   ]
  },
  {
   "cell_type": "markdown",
   "metadata": {},
   "source": [
    "CTs 3 and 7 do make up almost half of the observations at VDH above 150  \n",
    "Will look at 200 to get a better sense of a possible point to use for a feature"
   ]
  },
  {
   "cell_type": "code",
   "execution_count": 40,
   "metadata": {},
   "outputs": [
    {
     "data": {
      "text/plain": [
       "Cover_Type\n",
       "1     53\n",
       "2     57\n",
       "3     65\n",
       "4     34\n",
       "5     64\n",
       "6     17\n",
       "7    178\n",
       "Name: Vertical_Distance_To_Hydrology, dtype: int64"
      ]
     },
     "execution_count": 40,
     "metadata": {},
     "output_type": "execute_result"
    }
   ],
   "source": [
    "vdhGT200 = df_train['Vertical_Distance_To_Hydrology'][df_train['Vertical_Distance_To_Hydrology'] > 200].groupby(by=df_train['Cover_Type']).count()\n",
    "vdhGT200"
   ]
  },
  {
   "cell_type": "markdown",
   "metadata": {},
   "source": [
    "Above VDH 200, CT 7 is still the cleare mode but CT 3 is almost as frequent as the third most frequent CT 5"
   ]
  },
  {
   "cell_type": "code",
   "execution_count": 41,
   "metadata": {},
   "outputs": [
    {
     "data": {
      "text/plain": [
       "0.5192307692307693"
      ]
     },
     "execution_count": 41,
     "metadata": {},
     "output_type": "execute_result"
    }
   ],
   "source": [
    "vdhGT200a = sum([vdhGT200[i] for i in [3, 7]]) #Just for reference, as I would not identify CT 3 as being clearly distinct from the other CTs at VDH greater than 200\n",
    "vdhGT200Sum = sum(vdhGT200)\n",
    "vdhGT200a / vdhGT200Sum"
   ]
  },
  {
   "cell_type": "code",
   "execution_count": 42,
   "metadata": {},
   "outputs": [
    {
     "data": {
      "text/plain": [
       "0.3803418803418803"
      ]
     },
     "execution_count": 42,
     "metadata": {},
     "output_type": "execute_result"
    }
   ],
   "source": [
    "vdhGT200[7] / vdhGT200Sum"
   ]
  },
  {
   "cell_type": "markdown",
   "metadata": {},
   "source": [
    "Not a very strong relationship between VDH >200 and CT  \n",
    "**Notes**  \n",
    "Chose not to create a feature for high VDH"
   ]
  },
  {
   "cell_type": "markdown",
   "metadata": {},
   "source": [
    "Wanted to consider groupings of HDR, splitting at 2000 and 5000"
   ]
  },
  {
   "cell_type": "code",
   "execution_count": 43,
   "metadata": {},
   "outputs": [
    {
     "data": {
      "text/html": [
       "<div>\n",
       "<style scoped>\n",
       "    .dataframe tbody tr th:only-of-type {\n",
       "        vertical-align: middle;\n",
       "    }\n",
       "\n",
       "    .dataframe tbody tr th {\n",
       "        vertical-align: top;\n",
       "    }\n",
       "\n",
       "    .dataframe thead th {\n",
       "        text-align: right;\n",
       "    }\n",
       "</style>\n",
       "<table border=\"1\" class=\"dataframe\">\n",
       "  <thead>\n",
       "    <tr style=\"text-align: right;\">\n",
       "      <th></th>\n",
       "      <th>count</th>\n",
       "      <th>mean</th>\n",
       "      <th>std</th>\n",
       "      <th>min</th>\n",
       "      <th>25%</th>\n",
       "      <th>50%</th>\n",
       "      <th>75%</th>\n",
       "      <th>max</th>\n",
       "    </tr>\n",
       "    <tr>\n",
       "      <th>Cover_Type</th>\n",
       "      <th></th>\n",
       "      <th></th>\n",
       "      <th></th>\n",
       "      <th></th>\n",
       "      <th></th>\n",
       "      <th></th>\n",
       "      <th></th>\n",
       "      <th></th>\n",
       "    </tr>\n",
       "  </thead>\n",
       "  <tbody>\n",
       "    <tr>\n",
       "      <th>1</th>\n",
       "      <td>2160.0</td>\n",
       "      <td>2579.715741</td>\n",
       "      <td>1495.176212</td>\n",
       "      <td>108.0</td>\n",
       "      <td>1380.0</td>\n",
       "      <td>2377.0</td>\n",
       "      <td>3601.25</td>\n",
       "      <td>6508.0</td>\n",
       "    </tr>\n",
       "    <tr>\n",
       "      <th>2</th>\n",
       "      <td>2160.0</td>\n",
       "      <td>2425.791667</td>\n",
       "      <td>1629.381089</td>\n",
       "      <td>30.0</td>\n",
       "      <td>1110.0</td>\n",
       "      <td>2023.5</td>\n",
       "      <td>3413.75</td>\n",
       "      <td>6890.0</td>\n",
       "    </tr>\n",
       "    <tr>\n",
       "      <th>3</th>\n",
       "      <td>2160.0</td>\n",
       "      <td>969.595833</td>\n",
       "      <td>620.000509</td>\n",
       "      <td>0.0</td>\n",
       "      <td>480.0</td>\n",
       "      <td>897.0</td>\n",
       "      <td>1318.00</td>\n",
       "      <td>3181.0</td>\n",
       "    </tr>\n",
       "    <tr>\n",
       "      <th>4</th>\n",
       "      <td>2160.0</td>\n",
       "      <td>915.100463</td>\n",
       "      <td>361.208979</td>\n",
       "      <td>67.0</td>\n",
       "      <td>629.0</td>\n",
       "      <td>942.0</td>\n",
       "      <td>1207.00</td>\n",
       "      <td>1702.0</td>\n",
       "    </tr>\n",
       "    <tr>\n",
       "      <th>5</th>\n",
       "      <td>2160.0</td>\n",
       "      <td>1329.318519</td>\n",
       "      <td>1041.100986</td>\n",
       "      <td>30.0</td>\n",
       "      <td>420.0</td>\n",
       "      <td>1253.5</td>\n",
       "      <td>1956.00</td>\n",
       "      <td>5198.0</td>\n",
       "    </tr>\n",
       "    <tr>\n",
       "      <th>6</th>\n",
       "      <td>2160.0</td>\n",
       "      <td>1064.980556</td>\n",
       "      <td>576.384899</td>\n",
       "      <td>0.0</td>\n",
       "      <td>626.0</td>\n",
       "      <td>993.0</td>\n",
       "      <td>1420.50</td>\n",
       "      <td>3078.0</td>\n",
       "    </tr>\n",
       "    <tr>\n",
       "      <th>7</th>\n",
       "      <td>2160.0</td>\n",
       "      <td>2713.659722</td>\n",
       "      <td>1206.313419</td>\n",
       "      <td>514.0</td>\n",
       "      <td>1726.5</td>\n",
       "      <td>2611.5</td>\n",
       "      <td>3723.25</td>\n",
       "      <td>5463.0</td>\n",
       "    </tr>\n",
       "  </tbody>\n",
       "</table>\n",
       "</div>"
      ],
      "text/plain": [
       "             count         mean          std    min     25%     50%      75%  \\\n",
       "Cover_Type                                                                     \n",
       "1           2160.0  2579.715741  1495.176212  108.0  1380.0  2377.0  3601.25   \n",
       "2           2160.0  2425.791667  1629.381089   30.0  1110.0  2023.5  3413.75   \n",
       "3           2160.0   969.595833   620.000509    0.0   480.0   897.0  1318.00   \n",
       "4           2160.0   915.100463   361.208979   67.0   629.0   942.0  1207.00   \n",
       "5           2160.0  1329.318519  1041.100986   30.0   420.0  1253.5  1956.00   \n",
       "6           2160.0  1064.980556   576.384899    0.0   626.0   993.0  1420.50   \n",
       "7           2160.0  2713.659722  1206.313419  514.0  1726.5  2611.5  3723.25   \n",
       "\n",
       "               max  \n",
       "Cover_Type          \n",
       "1           6508.0  \n",
       "2           6890.0  \n",
       "3           3181.0  \n",
       "4           1702.0  \n",
       "5           5198.0  \n",
       "6           3078.0  \n",
       "7           5463.0  "
      ]
     },
     "execution_count": 43,
     "metadata": {},
     "output_type": "execute_result"
    }
   ],
   "source": [
    "df_train['Horizontal_Distance_To_Roadways'].groupby(by=df_train['Cover_Type']).describe()"
   ]
  },
  {
   "cell_type": "markdown",
   "metadata": {},
   "source": [
    "Back to the group of CTs 1, 2 and 7. The three have a much higher mean HDR, but also the highest stds.  \n",
    "There are big differences in the quartiles for the 1, 2, 7 group and others, with differences increasing with percentiles."
   ]
  },
  {
   "cell_type": "code",
   "execution_count": 44,
   "metadata": {},
   "outputs": [
    {
     "name": "stderr",
     "output_type": "stream",
     "text": [
      "/home/eric/anaconda3/lib/python3.6/site-packages/scipy/stats/stats.py:1713: FutureWarning: Using a non-tuple sequence for multidimensional indexing is deprecated; use `arr[tuple(seq)]` instead of `arr[seq]`. In the future this will be interpreted as an array index, `arr[np.array(seq)]`, which will result either in an error or a different result.\n",
      "  return np.add.reduce(sorted[indexer] * weights, axis=axis) / sumval\n"
     ]
    },
    {
     "data": {
      "text/plain": [
       "<matplotlib.legend.Legend at 0x7f7947319278>"
      ]
     },
     "execution_count": 44,
     "metadata": {},
     "output_type": "execute_result"
    },
    {
     "data": {
      "image/png": "[encoded data removed]",
      "text/plain": [
       "<Figure size 432x288 with 1 Axes>"
      ]
     },
     "metadata": {},
     "output_type": "display_data"
    }
   ],
   "source": [
    "for i in range(1, 8): #Loop through cover types and plot kde for HDR\n",
    "    g = sns.kdeplot(df_train['Horizontal_Distance_To_Roadways'][df_train['Cover_Type'] == i], color=cust_palette[i])\n",
    "sns.set_style('dark')\n",
    "g.legend(range(1, 8), bbox_to_anchor=(1.22, 1.02), title='Cover_Type')"
   ]
  },
  {
   "cell_type": "markdown",
   "metadata": {},
   "source": [
    "CT 4 exhibits the most bunching, around HDR ~1000  \n",
    "CTs 3 and 6 have similar distributions, a peak at <500 and a tail that peters out at ~3000  \n",
    "CT 5 has a bimodal distribution with peaks at ~100 and ~2000, and a much smaller peak at ~500  \n",
    "CTs 1 and 2 have similar distributions with a peak at >1000 and long tails  \n",
    "CT 7 has a bimodal distribution, but not strongly so. Peaks from 2000-4000 with a shorter tail than CTs 1 and 2  \n",
    "**Notes**  \n",
    "HDR ~3000 or somewhere lower could be used to separate CTs 1, 2 and 7 from the others  \n",
    "Look at lower HDR ~2000 as another splitting point"
   ]
  },
  {
   "cell_type": "code",
   "execution_count": 45,
   "metadata": {},
   "outputs": [
    {
     "name": "stdout",
     "output_type": "stream",
     "text": [
      "1 [3601.25 3913.2  4362.   4821.4  5368.1 ]\n",
      "2 [3413.75 3937.6  4449.1  5167.   5662.1 ]\n",
      "3 [1318.   1422.2  1552.6  1825.8  2240.45]\n",
      "4 [1207.   1261.2  1315.   1365.   1436.05]\n",
      "5 [1956.   2065.2  2184.15 2352.   2810.15]\n",
      "6 [1420.5  1531.   1710.15 1900.7  2117.05]\n",
      "7 [3723.25 3913.2  4138.3  4337.1  4813.55]\n"
     ]
    }
   ],
   "source": [
    "for i in range(1, 8): #Find HDR percentiles for each CT\n",
    "    print(i, np.percentile(df_train['Horizontal_Distance_To_Roadways'][df_train['Cover_Type'] == i], [75, 80, 85, 90, 95]))"
   ]
  },
  {
   "cell_type": "markdown",
   "metadata": {},
   "source": [
    "Think 2000 would be a fine number to split HDR at a middling value, but probably not optimal"
   ]
  },
  {
   "cell_type": "code",
   "execution_count": 46,
   "metadata": {},
   "outputs": [
    {
     "data": {
      "text/plain": [
       "Cover_Type\n",
       "1     895\n",
       "2    1072\n",
       "3    1989\n",
       "4    2160\n",
       "5    1666\n",
       "6    1984\n",
       "7     700\n",
       "Name: Horizontal_Distance_To_Roadways, dtype: int64"
      ]
     },
     "execution_count": 46,
     "metadata": {},
     "output_type": "execute_result"
    }
   ],
   "source": [
    "hdrLT2000 = df_train['Horizontal_Distance_To_Roadways'][df_train['Horizontal_Distance_To_Roadways'] < 2000].groupby(by=df_train['Cover_Type']).count()\n",
    "hdrLT2000"
   ]
  },
  {
   "cell_type": "code",
   "execution_count": 47,
   "metadata": {},
   "outputs": [
    {
     "data": {
      "text/plain": [
       "Cover_Type\n",
       "1    0.414352\n",
       "2    0.496296\n",
       "3    0.920833\n",
       "4    1.000000\n",
       "5    0.771296\n",
       "6    0.918519\n",
       "7    0.324074\n",
       "Name: Horizontal_Distance_To_Roadways, dtype: float64"
      ]
     },
     "execution_count": 47,
     "metadata": {},
     "output_type": "execute_result"
    }
   ],
   "source": [
    "hdrLT2000Prop = hdrLT2000 / 2160 #Cdf for each CT at 2000\n",
    "hdrLT2000Prop"
   ]
  },
  {
   "cell_type": "markdown",
   "metadata": {},
   "source": [
    "As desired, a strong majority of CTs 3, 4 and 6 are below 2000, and a majority of CTs 1, 2 and 7 are above"
   ]
  },
  {
   "cell_type": "markdown",
   "metadata": {},
   "source": [
    "Look more closely at the distributions above HDR 2000"
   ]
  },
  {
   "cell_type": "code",
   "execution_count": 48,
   "metadata": {},
   "outputs": [
    {
     "data": {
      "image/png": "[encoded data removed]",
      "text/plain": [
       "<Figure size 576x1008 with 7 Axes>"
      ]
     },
     "metadata": {},
     "output_type": "display_data"
    }
   ],
   "source": [
    "fig, axs = plt.subplots(7, 1, sharex=True, sharey=True, figsize=(8, 14)) #Plot histograms for aspect of each cover type\n",
    "\n",
    "for i in range(7):\n",
    "    axs[i].hist(df_train['Horizontal_Distance_To_Roadways'][df_train['Cover_Type'] == i + 1][df_train['Horizontal_Distance_To_Roadways']>2000], color=cust_palette[i+1])\n",
    "    axs[i].set_title('Cover_Type{}'.format(i+1))"
   ]
  },
  {
   "cell_type": "markdown",
   "metadata": {},
   "source": [
    "Consider splitting at HDR 4500"
   ]
  },
  {
   "cell_type": "code",
   "execution_count": 49,
   "metadata": {},
   "outputs": [
    {
     "data": {
      "text/plain": [
       "Cover_Type\n",
       "1    294\n",
       "2    318\n",
       "5     76\n",
       "7    156\n",
       "Name: Id, dtype: int64"
      ]
     },
     "execution_count": 49,
     "metadata": {},
     "output_type": "execute_result"
    }
   ],
   "source": [
    "df_train['Id'][df_train['Horizontal_Distance_To_Roadways'] > 4500].groupby(by=df_train['Cover_Type']).count()"
   ]
  },
  {
   "cell_type": "code",
   "execution_count": 50,
   "metadata": {},
   "outputs": [
    {
     "name": "stdout",
     "output_type": "stream",
     "text": [
      "4250 Cover_Type\n",
      "1    357\n",
      "2    366\n",
      "5     76\n",
      "7    269\n",
      "Name: Id, dtype: int64\n",
      "4500 Cover_Type\n",
      "1    294\n",
      "2    318\n",
      "5     76\n",
      "7    156\n",
      "Name: Id, dtype: int64\n",
      "4750 Cover_Type\n",
      "1    231\n",
      "2    271\n",
      "5     55\n",
      "7    114\n",
      "Name: Id, dtype: int64\n",
      "5000 Cover_Type\n",
      "1    182\n",
      "2    237\n",
      "5     21\n",
      "7     77\n",
      "Name: Id, dtype: int64\n"
     ]
    }
   ],
   "source": [
    "for i in [4250, 4500, 4750, 5000]: #Look at a few other possible splits\n",
    "    print(i,df_train['Id'][df_train['Horizontal_Distance_To_Roadways'] > i].groupby(by=df_train['Cover_Type']).count())"
   ]
  },
  {
   "cell_type": "markdown",
   "metadata": {},
   "source": [
    "HDR 4250 seems too early, but not sure there is much difference between 4500, 4750 and 5000"
   ]
  },
  {
   "cell_type": "code",
   "execution_count": 51,
   "metadata": {},
   "outputs": [
    {
     "name": "stdout",
     "output_type": "stream",
     "text": [
      "4500 [0.34834123222748814, 0.3767772511848341, 0.09004739336492891, 0.1848341232227488]\n",
      "4750 [0.3442622950819672, 0.4038748137108793, 0.08196721311475409, 0.16989567809239942]\n",
      "5000 [0.3520309477756286, 0.4584139264990329, 0.04061895551257253, 0.14893617021276595]\n"
     ]
    }
   ],
   "source": [
    "for i in [4500, 4750, 5000]: #HDRs under consideration\n",
    "    hdrByCT = []\n",
    "    for j in [1, 2, 5, 7]: #Relevant CTs\n",
    "        hdrByCT.append((df_train['Id'][df_train['Horizontal_Distance_To_Roadways'] > i][df_train['Cover_Type'] == j]).count())\n",
    "        hdrSum = sum(hdrByCT)\n",
    "    print(i, [(hdrByCT[k] / hdrSum) for k in range(4)])\n",
    "#Find the proportion of observations above each i of each CT"
   ]
  },
  {
   "cell_type": "markdown",
   "metadata": {},
   "source": [
    "Will go with 5000 over 4500 for the promise of greater precision at the cost of applicability"
   ]
  },
  {
   "cell_type": "code",
   "execution_count": 52,
   "metadata": {},
   "outputs": [],
   "source": [
    "def funcHDR3(row): #Make 3 bins for HDR, splitting at 2000 and 5000\n",
    "    if row < 2000:\n",
    "        return 0\n",
    "    elif row >= 2000 & row < 5000:\n",
    "        return 1\n",
    "    else:\n",
    "        return 2\n",
    "combine['HDR3'] = combine['Horizontal_Distance_To_Roadways'].apply(funcHDR3)"
   ]
  },
  {
   "cell_type": "markdown",
   "metadata": {},
   "source": [
    "Considered combining Hillshade at 9 and Noon, if they are useful at all  \n",
    "Did not see evidence for an interesting relationship in Explore notebook"
   ]
  },
  {
   "cell_type": "code",
   "execution_count": 55,
   "metadata": {},
   "outputs": [
    {
     "name": "stderr",
     "output_type": "stream",
     "text": [
      "/home/eric/anaconda3/lib/python3.6/site-packages/scipy/stats/stats.py:1713: FutureWarning: Using a non-tuple sequence for multidimensional indexing is deprecated; use `arr[tuple(seq)]` instead of `arr[seq]`. In the future this will be interpreted as an array index, `arr[np.array(seq)]`, which will result either in an error or a different result.\n",
      "  return np.add.reduce(sorted[indexer] * weights, axis=axis) / sumval\n"
     ]
    },
    {
     "data": {
      "text/plain": [
       "<matplotlib.legend.Legend at 0x7f79477cff28>"
      ]
     },
     "execution_count": 55,
     "metadata": {},
     "output_type": "execute_result"
    },
    {
     "data": {
      "image/png": "[encoded data removed]",
      "text/plain": [
       "<Figure size 432x288 with 1 Axes>"
      ]
     },
     "metadata": {},
     "output_type": "display_data"
    }
   ],
   "source": [
    "for i in range(1, 8): #Loop through cover types and plot kde for Hillshade at 9\n",
    "    g = sns.kdeplot(df_train['Hillshade_9am'][df_train['Cover_Type'] == i], color=cust_palette[i])\n",
    "sns.set_style('dark')\n",
    "g.legend(range(1, 8), bbox_to_anchor=(1.22, 1.02), title='Cover_Type')"
   ]
  },
  {
   "cell_type": "code",
   "execution_count": 56,
   "metadata": {},
   "outputs": [
    {
     "name": "stderr",
     "output_type": "stream",
     "text": [
      "/home/eric/anaconda3/lib/python3.6/site-packages/scipy/stats/stats.py:1713: FutureWarning: Using a non-tuple sequence for multidimensional indexing is deprecated; use `arr[tuple(seq)]` instead of `arr[seq]`. In the future this will be interpreted as an array index, `arr[np.array(seq)]`, which will result either in an error or a different result.\n",
      "  return np.add.reduce(sorted[indexer] * weights, axis=axis) / sumval\n"
     ]
    },
    {
     "data": {
      "text/plain": [
       "<matplotlib.legend.Legend at 0x7f7946ad4d30>"
      ]
     },
     "execution_count": 56,
     "metadata": {},
     "output_type": "execute_result"
    },
    {
     "data": {
      "image/png": "[encoded data removed]",
      "text/plain": [
       "<Figure size 432x288 with 1 Axes>"
      ]
     },
     "metadata": {},
     "output_type": "display_data"
    }
   ],
   "source": [
    "for i in range(1, 8): #Loop through cover types and plot kde for Hillshade at Noon\n",
    "    g = sns.kdeplot(df_train['Hillshade_Noon'][df_train['Cover_Type'] == i], color=cust_palette[i])\n",
    "sns.set_style('dark')\n",
    "g.legend(range(1, 8), bbox_to_anchor=(1.22, 1.02), title='Cover_Type')"
   ]
  },
  {
   "cell_type": "code",
   "execution_count": 57,
   "metadata": {},
   "outputs": [
    {
     "name": "stderr",
     "output_type": "stream",
     "text": [
      "/home/eric/anaconda3/lib/python3.6/site-packages/scipy/stats/stats.py:1713: FutureWarning: Using a non-tuple sequence for multidimensional indexing is deprecated; use `arr[tuple(seq)]` instead of `arr[seq]`. In the future this will be interpreted as an array index, `arr[np.array(seq)]`, which will result either in an error or a different result.\n",
      "  return np.add.reduce(sorted[indexer] * weights, axis=axis) / sumval\n"
     ]
    },
    {
     "data": {
      "text/plain": [
       "<matplotlib.legend.Legend at 0x7f7948388128>"
      ]
     },
     "execution_count": 57,
     "metadata": {},
     "output_type": "execute_result"
    },
    {
     "data": {
      "image/png": "[encoded data removed]",
      "text/plain": [
       "<Figure size 432x288 with 1 Axes>"
      ]
     },
     "metadata": {},
     "output_type": "display_data"
    }
   ],
   "source": [
    "for i in range(1, 8): #Loop through cover types and plot kde for Hillshade at 3\n",
    "    g = sns.kdeplot(df_train['Hillshade_3pm'][df_train['Cover_Type'] == i], color=cust_palette[i])\n",
    "sns.set_style('dark')\n",
    "g.legend(range(1, 8), bbox_to_anchor=(1.22, 1.02), title='Cover_Type')"
   ]
  },
  {
   "cell_type": "markdown",
   "metadata": {},
   "source": [
    "Hillshade at Noon seems the least useful of the three features, followed by 9am  \n",
    "Hillshade at 3pm could be worth looking at more closely  \n",
    "**Notes**  \n",
    "CTs 1, 2 and 7 exhibit similar distributions, distinct from the other CTs  \n",
    "Their group exhibits a clear unimodal distribution around ~150, the other CTs are more spread out"
   ]
  },
  {
   "cell_type": "code",
   "execution_count": 58,
   "metadata": {},
   "outputs": [
    {
     "data": {
      "text/html": [
       "<div>\n",
       "<style scoped>\n",
       "    .dataframe tbody tr th:only-of-type {\n",
       "        vertical-align: middle;\n",
       "    }\n",
       "\n",
       "    .dataframe tbody tr th {\n",
       "        vertical-align: top;\n",
       "    }\n",
       "\n",
       "    .dataframe thead th {\n",
       "        text-align: right;\n",
       "    }\n",
       "</style>\n",
       "<table border=\"1\" class=\"dataframe\">\n",
       "  <thead>\n",
       "    <tr style=\"text-align: right;\">\n",
       "      <th></th>\n",
       "      <th>count</th>\n",
       "      <th>mean</th>\n",
       "      <th>std</th>\n",
       "      <th>min</th>\n",
       "      <th>25%</th>\n",
       "      <th>50%</th>\n",
       "      <th>75%</th>\n",
       "      <th>max</th>\n",
       "    </tr>\n",
       "    <tr>\n",
       "      <th>Cover_Type</th>\n",
       "      <th></th>\n",
       "      <th></th>\n",
       "      <th></th>\n",
       "      <th></th>\n",
       "      <th></th>\n",
       "      <th></th>\n",
       "      <th></th>\n",
       "      <th></th>\n",
       "    </tr>\n",
       "  </thead>\n",
       "  <tbody>\n",
       "    <tr>\n",
       "      <th>1</th>\n",
       "      <td>2160.0</td>\n",
       "      <td>144.065741</td>\n",
       "      <td>36.114843</td>\n",
       "      <td>0.0</td>\n",
       "      <td>122.0</td>\n",
       "      <td>144.0</td>\n",
       "      <td>169.00</td>\n",
       "      <td>246.0</td>\n",
       "    </tr>\n",
       "    <tr>\n",
       "      <th>2</th>\n",
       "      <td>2160.0</td>\n",
       "      <td>142.950926</td>\n",
       "      <td>35.187638</td>\n",
       "      <td>6.0</td>\n",
       "      <td>120.0</td>\n",
       "      <td>141.0</td>\n",
       "      <td>166.00</td>\n",
       "      <td>248.0</td>\n",
       "    </tr>\n",
       "    <tr>\n",
       "      <th>3</th>\n",
       "      <td>2160.0</td>\n",
       "      <td>141.549537</td>\n",
       "      <td>51.582375</td>\n",
       "      <td>0.0</td>\n",
       "      <td>106.0</td>\n",
       "      <td>142.0</td>\n",
       "      <td>180.00</td>\n",
       "      <td>248.0</td>\n",
       "    </tr>\n",
       "    <tr>\n",
       "      <th>4</th>\n",
       "      <td>2160.0</td>\n",
       "      <td>111.808796</td>\n",
       "      <td>49.383949</td>\n",
       "      <td>0.0</td>\n",
       "      <td>74.0</td>\n",
       "      <td>114.0</td>\n",
       "      <td>150.00</td>\n",
       "      <td>230.0</td>\n",
       "    </tr>\n",
       "    <tr>\n",
       "      <th>5</th>\n",
       "      <td>2160.0</td>\n",
       "      <td>121.392593</td>\n",
       "      <td>50.121931</td>\n",
       "      <td>0.0</td>\n",
       "      <td>84.0</td>\n",
       "      <td>128.0</td>\n",
       "      <td>158.00</td>\n",
       "      <td>229.0</td>\n",
       "    </tr>\n",
       "    <tr>\n",
       "      <th>6</th>\n",
       "      <td>2160.0</td>\n",
       "      <td>147.682407</td>\n",
       "      <td>45.588500</td>\n",
       "      <td>22.0</td>\n",
       "      <td>114.0</td>\n",
       "      <td>150.0</td>\n",
       "      <td>184.00</td>\n",
       "      <td>238.0</td>\n",
       "    </tr>\n",
       "    <tr>\n",
       "      <th>7</th>\n",
       "      <td>2160.0</td>\n",
       "      <td>136.193981</td>\n",
       "      <td>37.999255</td>\n",
       "      <td>0.0</td>\n",
       "      <td>114.0</td>\n",
       "      <td>142.0</td>\n",
       "      <td>162.25</td>\n",
       "      <td>226.0</td>\n",
       "    </tr>\n",
       "  </tbody>\n",
       "</table>\n",
       "</div>"
      ],
      "text/plain": [
       "             count        mean        std   min    25%    50%     75%    max\n",
       "Cover_Type                                                                  \n",
       "1           2160.0  144.065741  36.114843   0.0  122.0  144.0  169.00  246.0\n",
       "2           2160.0  142.950926  35.187638   6.0  120.0  141.0  166.00  248.0\n",
       "3           2160.0  141.549537  51.582375   0.0  106.0  142.0  180.00  248.0\n",
       "4           2160.0  111.808796  49.383949   0.0   74.0  114.0  150.00  230.0\n",
       "5           2160.0  121.392593  50.121931   0.0   84.0  128.0  158.00  229.0\n",
       "6           2160.0  147.682407  45.588500  22.0  114.0  150.0  184.00  238.0\n",
       "7           2160.0  136.193981  37.999255   0.0  114.0  142.0  162.25  226.0"
      ]
     },
     "execution_count": 58,
     "metadata": {},
     "output_type": "execute_result"
    }
   ],
   "source": [
    "df_train['Hillshade_3pm'].groupby(by=df_train['Cover_Type']).describe()"
   ]
  },
  {
   "cell_type": "markdown",
   "metadata": {},
   "source": [
    "Decide against adding some sort of binning feature  \n",
    "Maybe use the Hillshades in aggregated forms, ie combining 9am and Noon (and 3pm?)"
   ]
  },
  {
   "cell_type": "code",
   "execution_count": 68,
   "metadata": {},
   "outputs": [],
   "source": [
    "combine['Hillshade_9am_Noon'] = combine['Hillshade_9am'] + combine['Hillshade_Noon']\n",
    "df_train = combine[:15120]\n",
    "df_test = combine[15120:]"
   ]
  },
  {
   "cell_type": "code",
   "execution_count": 69,
   "metadata": {},
   "outputs": [
    {
     "data": {
      "text/plain": [
       "(15120, 65)"
      ]
     },
     "execution_count": 69,
     "metadata": {},
     "output_type": "execute_result"
    }
   ],
   "source": [
    "df_train.shape"
   ]
  },
  {
   "cell_type": "code",
   "execution_count": 60,
   "metadata": {},
   "outputs": [
    {
     "data": {
      "text/html": [
       "<div>\n",
       "<style scoped>\n",
       "    .dataframe tbody tr th:only-of-type {\n",
       "        vertical-align: middle;\n",
       "    }\n",
       "\n",
       "    .dataframe tbody tr th {\n",
       "        vertical-align: top;\n",
       "    }\n",
       "\n",
       "    .dataframe thead th {\n",
       "        text-align: right;\n",
       "    }\n",
       "</style>\n",
       "<table border=\"1\" class=\"dataframe\">\n",
       "  <thead>\n",
       "    <tr style=\"text-align: right;\">\n",
       "      <th></th>\n",
       "      <th>Hillshade_9am_Noon</th>\n",
       "      <th>Hillshade_9am</th>\n",
       "      <th>Hillshade_Noon</th>\n",
       "    </tr>\n",
       "  </thead>\n",
       "  <tbody>\n",
       "    <tr>\n",
       "      <th>0</th>\n",
       "      <td>453</td>\n",
       "      <td>221</td>\n",
       "      <td>232</td>\n",
       "    </tr>\n",
       "    <tr>\n",
       "      <th>1</th>\n",
       "      <td>455</td>\n",
       "      <td>220</td>\n",
       "      <td>235</td>\n",
       "    </tr>\n",
       "    <tr>\n",
       "      <th>2</th>\n",
       "      <td>472</td>\n",
       "      <td>234</td>\n",
       "      <td>238</td>\n",
       "    </tr>\n",
       "    <tr>\n",
       "      <th>3</th>\n",
       "      <td>476</td>\n",
       "      <td>238</td>\n",
       "      <td>238</td>\n",
       "    </tr>\n",
       "    <tr>\n",
       "      <th>4</th>\n",
       "      <td>454</td>\n",
       "      <td>220</td>\n",
       "      <td>234</td>\n",
       "    </tr>\n",
       "  </tbody>\n",
       "</table>\n",
       "</div>"
      ],
      "text/plain": [
       "   Hillshade_9am_Noon  Hillshade_9am  Hillshade_Noon\n",
       "0                 453            221             232\n",
       "1                 455            220             235\n",
       "2                 472            234             238\n",
       "3                 476            238             238\n",
       "4                 454            220             234"
      ]
     },
     "execution_count": 60,
     "metadata": {},
     "output_type": "execute_result"
    }
   ],
   "source": [
    "combine[['Hillshade_9am_Noon', 'Hillshade_9am', 'Hillshade_Noon']].head()"
   ]
  },
  {
   "cell_type": "code",
   "execution_count": 70,
   "metadata": {},
   "outputs": [
    {
     "name": "stderr",
     "output_type": "stream",
     "text": [
      "/home/eric/anaconda3/lib/python3.6/site-packages/scipy/stats/stats.py:1713: FutureWarning: Using a non-tuple sequence for multidimensional indexing is deprecated; use `arr[tuple(seq)]` instead of `arr[seq]`. In the future this will be interpreted as an array index, `arr[np.array(seq)]`, which will result either in an error or a different result.\n",
      "  return np.add.reduce(sorted[indexer] * weights, axis=axis) / sumval\n"
     ]
    },
    {
     "data": {
      "text/plain": [
       "<matplotlib.legend.Legend at 0x7f7944fb40f0>"
      ]
     },
     "execution_count": 70,
     "metadata": {},
     "output_type": "execute_result"
    },
    {
     "data": {
      "image/png": "[encoded data removed]",
      "text/plain": [
       "<Figure size 432x288 with 1 Axes>"
      ]
     },
     "metadata": {},
     "output_type": "display_data"
    }
   ],
   "source": [
    "for i in range(1, 8): #Loop through cover types and plot kde for Hillshade at 9am and Noon\n",
    "    g = sns.kdeplot(df_train['Hillshade_9am_Noon'][df_train['Cover_Type'] == i], color=cust_palette[i])\n",
    "sns.set_style('dark')\n",
    "g.legend(range(1, 8), bbox_to_anchor=(1.22, 1.02), title='Cover_Type')"
   ]
  },
  {
   "cell_type": "markdown",
   "metadata": {},
   "source": [
    "Now CT 6 is more distinct, being more common at low values of agg Hillshade  \n",
    "Will try adding Hillshade at 3pm for curiousity's sake"
   ]
  },
  {
   "cell_type": "code",
   "execution_count": 71,
   "metadata": {},
   "outputs": [],
   "source": [
    "combine['Hillshade_9am_Noon_3pm'] = combine['Hillshade_9am_Noon'] + combine['Hillshade_3pm']\n",
    "df_train = combine[:15120]\n",
    "df_test = combine[15120:]"
   ]
  },
  {
   "cell_type": "code",
   "execution_count": 73,
   "metadata": {},
   "outputs": [
    {
     "name": "stderr",
     "output_type": "stream",
     "text": [
      "/home/eric/anaconda3/lib/python3.6/site-packages/scipy/stats/stats.py:1713: FutureWarning: Using a non-tuple sequence for multidimensional indexing is deprecated; use `arr[tuple(seq)]` instead of `arr[seq]`. In the future this will be interpreted as an array index, `arr[np.array(seq)]`, which will result either in an error or a different result.\n",
      "  return np.add.reduce(sorted[indexer] * weights, axis=axis) / sumval\n"
     ]
    },
    {
     "data": {
      "text/plain": [
       "<matplotlib.legend.Legend at 0x7f7947866e80>"
      ]
     },
     "execution_count": 73,
     "metadata": {},
     "output_type": "execute_result"
    },
    {
     "data": {
      "image/png": "[encoded data removed]",
      "text/plain": [
       "<Figure size 432x288 with 1 Axes>"
      ]
     },
     "metadata": {},
     "output_type": "display_data"
    }
   ],
   "source": [
    "for i in range(1, 8): #Loop through cover types and plot kde for Hillshade at all times\n",
    "    g = sns.kdeplot(df_train['Hillshade_9am_Noon_3pm'][df_train['Cover_Type'] == i], color=cust_palette[i])\n",
    "sns.set_style('dark')\n",
    "g.legend(range(1, 8), bbox_to_anchor=(1.22, 1.02), title='Cover_Type')"
   ]
  },
  {
   "cell_type": "markdown",
   "metadata": {},
   "source": [
    "There is less distinction among the CTs after aggregating all 3 times  \n",
    "**Notes**  \n",
    "If Hillshades are used at all, consider combined Hillshade at 9 and Noon and Hillshade at 3 as separate features"
   ]
  },
  {
   "cell_type": "markdown",
   "metadata": {},
   "source": [
    "Considered groupings of CTs at low (<2000) and middle (2000-4000) values of HDFP"
   ]
  },
  {
   "cell_type": "code",
   "execution_count": 74,
   "metadata": {},
   "outputs": [
    {
     "name": "stderr",
     "output_type": "stream",
     "text": [
      "/home/eric/anaconda3/lib/python3.6/site-packages/scipy/stats/stats.py:1713: FutureWarning: Using a non-tuple sequence for multidimensional indexing is deprecated; use `arr[tuple(seq)]` instead of `arr[seq]`. In the future this will be interpreted as an array index, `arr[np.array(seq)]`, which will result either in an error or a different result.\n",
      "  return np.add.reduce(sorted[indexer] * weights, axis=axis) / sumval\n"
     ]
    },
    {
     "data": {
      "text/plain": [
       "<matplotlib.legend.Legend at 0x7f7947c0edd8>"
      ]
     },
     "execution_count": 74,
     "metadata": {},
     "output_type": "execute_result"
    },
    {
     "data": {
      "image/png": "[encoded data removed]",
      "text/plain": [
       "<Figure size 432x288 with 1 Axes>"
      ]
     },
     "metadata": {},
     "output_type": "display_data"
    }
   ],
   "source": [
    "for i in range(1, 8): #Loop through cover types and plot kde for HDFP\n",
    "    g = sns.kdeplot(df_train['Horizontal_Distance_To_Fire_Points'][df_train['Cover_Type'] == i], color=cust_palette[i])\n",
    "sns.set_style('dark')\n",
    "g.legend(range(1, 8), bbox_to_anchor=(1.22, 1.02), title='Cover_Type')"
   ]
  },
  {
   "cell_type": "markdown",
   "metadata": {},
   "source": [
    "Grouping of CTs 3, 4 and 6 with unimodal distributions peaking at ~750  \n",
    "Grouping of CTs 1, 2 and 7 with right skewed distributions peaking at ~1500-2000  \n",
    "CT 5 in somewhere between the two groups, bimodal with peaks at ~1500  \n",
    "**Notes**  \n",
    "Consider splitting after the peak for CTs 3, 4 and 6, ie ~1500  \n",
    "Consider splitting after high percentile for CTs 3, 4, 6 and 5, ie ~3000"
   ]
  },
  {
   "cell_type": "code",
   "execution_count": 75,
   "metadata": {},
   "outputs": [
    {
     "data": {
      "text/html": [
       "<div>\n",
       "<style scoped>\n",
       "    .dataframe tbody tr th:only-of-type {\n",
       "        vertical-align: middle;\n",
       "    }\n",
       "\n",
       "    .dataframe tbody tr th {\n",
       "        vertical-align: top;\n",
       "    }\n",
       "\n",
       "    .dataframe thead th {\n",
       "        text-align: right;\n",
       "    }\n",
       "</style>\n",
       "<table border=\"1\" class=\"dataframe\">\n",
       "  <thead>\n",
       "    <tr style=\"text-align: right;\">\n",
       "      <th></th>\n",
       "      <th>count</th>\n",
       "      <th>mean</th>\n",
       "      <th>std</th>\n",
       "      <th>min</th>\n",
       "      <th>25%</th>\n",
       "      <th>50%</th>\n",
       "      <th>75%</th>\n",
       "      <th>max</th>\n",
       "    </tr>\n",
       "    <tr>\n",
       "      <th>Cover_Type</th>\n",
       "      <th></th>\n",
       "      <th></th>\n",
       "      <th></th>\n",
       "      <th></th>\n",
       "      <th></th>\n",
       "      <th></th>\n",
       "      <th></th>\n",
       "      <th></th>\n",
       "    </tr>\n",
       "  </thead>\n",
       "  <tbody>\n",
       "    <tr>\n",
       "      <th>1.0</th>\n",
       "      <td>2160.0</td>\n",
       "      <td>1994.412963</td>\n",
       "      <td>1249.350813</td>\n",
       "      <td>30.0</td>\n",
       "      <td>1080.25</td>\n",
       "      <td>1817.5</td>\n",
       "      <td>2642.00</td>\n",
       "      <td>6993.0</td>\n",
       "    </tr>\n",
       "    <tr>\n",
       "      <th>2.0</th>\n",
       "      <td>2160.0</td>\n",
       "      <td>2155.277315</td>\n",
       "      <td>1407.321563</td>\n",
       "      <td>42.0</td>\n",
       "      <td>1167.00</td>\n",
       "      <td>1851.0</td>\n",
       "      <td>2642.00</td>\n",
       "      <td>6723.0</td>\n",
       "    </tr>\n",
       "    <tr>\n",
       "      <th>3.0</th>\n",
       "      <td>2160.0</td>\n",
       "      <td>916.909722</td>\n",
       "      <td>532.464556</td>\n",
       "      <td>30.0</td>\n",
       "      <td>514.00</td>\n",
       "      <td>828.0</td>\n",
       "      <td>1200.00</td>\n",
       "      <td>2846.0</td>\n",
       "    </tr>\n",
       "    <tr>\n",
       "      <th>4.0</th>\n",
       "      <td>2160.0</td>\n",
       "      <td>860.540741</td>\n",
       "      <td>482.990176</td>\n",
       "      <td>0.0</td>\n",
       "      <td>459.00</td>\n",
       "      <td>808.0</td>\n",
       "      <td>1256.00</td>\n",
       "      <td>1921.0</td>\n",
       "    </tr>\n",
       "    <tr>\n",
       "      <th>5.0</th>\n",
       "      <td>2160.0</td>\n",
       "      <td>1530.388889</td>\n",
       "      <td>976.589203</td>\n",
       "      <td>60.0</td>\n",
       "      <td>850.00</td>\n",
       "      <td>1432.0</td>\n",
       "      <td>1933.50</td>\n",
       "      <td>6279.0</td>\n",
       "    </tr>\n",
       "    <tr>\n",
       "      <th>6.0</th>\n",
       "      <td>2160.0</td>\n",
       "      <td>1057.654167</td>\n",
       "      <td>576.691004</td>\n",
       "      <td>0.0</td>\n",
       "      <td>643.50</td>\n",
       "      <td>942.0</td>\n",
       "      <td>1364.25</td>\n",
       "      <td>2918.0</td>\n",
       "    </tr>\n",
       "    <tr>\n",
       "      <th>7.0</th>\n",
       "      <td>2160.0</td>\n",
       "      <td>2062.847222</td>\n",
       "      <td>1091.651985</td>\n",
       "      <td>30.0</td>\n",
       "      <td>1140.00</td>\n",
       "      <td>1963.0</td>\n",
       "      <td>2864.00</td>\n",
       "      <td>4481.0</td>\n",
       "    </tr>\n",
       "  </tbody>\n",
       "</table>\n",
       "</div>"
      ],
      "text/plain": [
       "             count         mean          std   min      25%     50%      75%  \\\n",
       "Cover_Type                                                                     \n",
       "1.0         2160.0  1994.412963  1249.350813  30.0  1080.25  1817.5  2642.00   \n",
       "2.0         2160.0  2155.277315  1407.321563  42.0  1167.00  1851.0  2642.00   \n",
       "3.0         2160.0   916.909722   532.464556  30.0   514.00   828.0  1200.00   \n",
       "4.0         2160.0   860.540741   482.990176   0.0   459.00   808.0  1256.00   \n",
       "5.0         2160.0  1530.388889   976.589203  60.0   850.00  1432.0  1933.50   \n",
       "6.0         2160.0  1057.654167   576.691004   0.0   643.50   942.0  1364.25   \n",
       "7.0         2160.0  2062.847222  1091.651985  30.0  1140.00  1963.0  2864.00   \n",
       "\n",
       "               max  \n",
       "Cover_Type          \n",
       "1.0         6993.0  \n",
       "2.0         6723.0  \n",
       "3.0         2846.0  \n",
       "4.0         1921.0  \n",
       "5.0         6279.0  \n",
       "6.0         2918.0  \n",
       "7.0         4481.0  "
      ]
     },
     "execution_count": 75,
     "metadata": {},
     "output_type": "execute_result"
    }
   ],
   "source": [
    "df_train['Horizontal_Distance_To_Fire_Points'].groupby(by=df_train['Cover_Type']).describe()"
   ]
  },
  {
   "cell_type": "markdown",
   "metadata": {},
   "source": [
    "Note HDFP of 3000 captures the totality of CTs 3, 4 and 6  \n",
    "The third quartile of this group is also lower than the split I suggested above, at ~1300  \n",
    "*Consider a splitting at lower HDFPs for predictive power*  "
   ]
  },
  {
   "cell_type": "code",
   "execution_count": 77,
   "metadata": {},
   "outputs": [
    {
     "name": "stdout",
     "output_type": "stream",
     "text": [
      "1 [2642.   2827.   3104.45 3504.2  4445.5 ]\n",
      "2 [2642.   2912.   3470.3  4427.   5396.85]\n",
      "3 [1200.  1302.4 1443.3 1642.2 1940.8]\n",
      "4 [1256.   1347.2  1436.15 1566.   1739.05]\n",
      "5 [1933.5  2067.2  2200.15 2315.   2571.45]\n",
      "6 [1364.25 1471.   1651.   1907.   2257.  ]\n",
      "7 [2864.   3240.2  3435.   3632.   3952.05]\n"
     ]
    }
   ],
   "source": [
    "for i in range(1, 8): #Calculate percentiles for HDFP by CT\n",
    "    print(i, np.percentile(df_train['Horizontal_Distance_To_Fire_Points'][df_train['Cover_Type'] == i], [75, 80, 85, 90, 95]))"
   ]
  },
  {
   "cell_type": "markdown",
   "metadata": {},
   "source": [
    "For the higher split, 2500 may be too high (intended to capture CT 5) but I will use it, at least initially  \n",
    "For the lower split, I am considering anything in the range 1250-1500"
   ]
  },
  {
   "cell_type": "code",
   "execution_count": 80,
   "metadata": {},
   "outputs": [
    {
     "name": "stdout",
     "output_type": "stream",
     "text": [
      "CDF for all CTs\n",
      "1250 0.4974867724867725\n",
      "1300 0.5196428571428572\n",
      "1350 0.540410052910053\n",
      "1400 0.5636904761904762\n",
      "1450 0.5847883597883597\n",
      "1500 0.601984126984127\n"
     ]
    }
   ],
   "source": [
    "print('CDF for all CTs')\n",
    "for i in [1250, 1300, 1350, 1400, 1450, 1500]: #Calculate cdf for all observations at points under consideration for splits\n",
    "    print(i, df_train['Id'][df_train['Horizontal_Distance_To_Fire_Points'] < i].count() / 15120)"
   ]
  },
  {
   "cell_type": "markdown",
   "metadata": {},
   "source": [
    "Choose 1250 for lower bin for aesthetic reasons, eg ~median and exactly half of the upper split"
   ]
  },
  {
   "cell_type": "code",
   "execution_count": 93,
   "metadata": {},
   "outputs": [],
   "source": [
    "def funcHDFP3(row): #Make ordinal feature for HDFP with 3 categories\n",
    "    if row < 1250:\n",
    "        return 0\n",
    "    elif row >= 1250 & row < 2500:\n",
    "        return 1\n",
    "    else:\n",
    "        return 2\n",
    "combine['HDFP3'] = combine['Horizontal_Distance_To_Fire_Points'].apply(funcHDFP3)\n",
    "df_train = combine[:15120]\n",
    "df_test = combine[15120:]"
   ]
  },
  {
   "cell_type": "markdown",
   "metadata": {},
   "source": [
    "Did cursory wikipedia search for each Wilderness Area, links in dataDesc file  \n",
    "First look at proportion of each Wilderness Area in combined data  \n",
    "**To do**  \n",
    "*wildernessAreaNotes.md* Examine descriptions of each wilderness area, eg elevations, popularity among hikers"
   ]
  },
  {
   "cell_type": "code",
   "execution_count": 95,
   "metadata": {},
   "outputs": [
    {
     "name": "stdout",
     "output_type": "stream",
     "text": [
      "Wilderness_Area1 0.4488650836815763\n",
      "Wilderness_Area2 0.051434393781884025\n",
      "Wilderness_Area3 0.4360736094951567\n",
      "Wilderness_Area4 0.06362691304138296\n"
     ]
    }
   ],
   "source": [
    "for i in ['Wilderness_Area1', 'Wilderness_Area2', 'Wilderness_Area3', 'Wilderness_Area4']:\n",
    "    print(i, combine['Id'][combine[i] == 1].count() / combine.shape[0])"
   ]
  },
  {
   "cell_type": "markdown",
   "metadata": {},
   "source": [
    "WAs 1 and 3 and heavily represented in the combined data  \n",
    "WA 4 was also common in the training data, what are the exact proportions?"
   ]
  },
  {
   "cell_type": "code",
   "execution_count": 102,
   "metadata": {},
   "outputs": [
    {
     "name": "stdout",
     "output_type": "stream",
     "text": [
      "Wilderness_Area1 \n",
      "Share of df_train: 0.23789682539682538\n",
      "Share of df_test: 0.45450191909410276\n",
      "Wilderness_Area2 \n",
      "Share of df_train: 0.033002645502645506\n",
      "Share of df_test: 0.051926869437984635\n",
      "Wilderness_Area3 \n",
      "Share of df_train: 0.4199074074074074\n",
      "Share of df_test: 0.43650555229619786\n",
      "Wilderness_Area4 \n",
      "Share of df_train: 0.3091931216931217\n",
      "Share of df_test: 0.057065659171714744\n"
     ]
    }
   ],
   "source": [
    "for i in ['Wilderness_Area1', 'Wilderness_Area2', 'Wilderness_Area3', 'Wilderness_Area4']:\n",
    "    print(i, '\\nShare of df_train: {}\\nShare of df_test: {}'.format(\n",
    "        df_train['Id'][df_train[i] == 1].count() / df_train.shape[0],\n",
    "         df_test['Id'][df_test[i] == 1].count() / df_test.shape[0]))"
   ]
  },
  {
   "cell_type": "markdown",
   "metadata": {},
   "source": [
    "Shares of each WA in the training data are dissimilar to the combined or test data  \n",
    "WA 1 is underrepresented and WA 4 is overrepresented  \n",
    "The proportions of each WA in the test data is similar to the combined data  \n",
    "**Notes**  \n",
    "Keep this in mind in creating any new features  \n",
    "Look up how to deal with features that are not representative of the population  \n",
    "*Look back at the representativeness of other features in determining which to use*"
   ]
  },
  {
   "cell_type": "code",
   "execution_count": 107,
   "metadata": {},
   "outputs": [
    {
     "name": "stdout",
     "output_type": "stream",
     "text": [
      "Wilderness_Area1\n",
      "Cover Type Wilderness_Area1: 1062\n",
      "Cover Type Wilderness_Area1: 1134\n",
      "Cover Type Wilderness_Area1: 0\n",
      "Cover Type Wilderness_Area1: 0\n",
      "Cover Type Wilderness_Area1: 856\n",
      "Cover Type Wilderness_Area1: 0\n",
      "Cover Type Wilderness_Area1: 545\n",
      "Wilderness_Area2\n",
      "Cover Type Wilderness_Area2: 181\n",
      "Cover Type Wilderness_Area2: 66\n",
      "Cover Type Wilderness_Area2: 0\n",
      "Cover Type Wilderness_Area2: 0\n",
      "Cover Type Wilderness_Area2: 0\n",
      "Cover Type Wilderness_Area2: 0\n",
      "Cover Type Wilderness_Area2: 252\n",
      "Wilderness_Area3\n",
      "Cover Type Wilderness_Area3: 917\n",
      "Cover Type Wilderness_Area3: 940\n",
      "Cover Type Wilderness_Area3: 863\n",
      "Cover Type Wilderness_Area3: 0\n",
      "Cover Type Wilderness_Area3: 1304\n",
      "Cover Type Wilderness_Area3: 962\n",
      "Cover Type Wilderness_Area3: 1363\n",
      "Wilderness_Area4\n",
      "Cover Type Wilderness_Area4: 0\n",
      "Cover Type Wilderness_Area4: 20\n",
      "Cover Type Wilderness_Area4: 1297\n",
      "Cover Type Wilderness_Area4: 2160\n",
      "Cover Type Wilderness_Area4: 0\n",
      "Cover Type Wilderness_Area4: 1198\n",
      "Cover Type Wilderness_Area4: 0\n"
     ]
    }
   ],
   "source": [
    "for i in ['Wilderness_Area1', 'Wilderness_Area2', 'Wilderness_Area3', 'Wilderness_Area4']:\n",
    "    print(i)\n",
    "    for j in range(1, 8):\n",
    "        print('Cover Type {}: {}'.format(i, df_train[i][df_train['Cover_Type'] == j].sum()))"
   ]
  },
  {
   "cell_type": "markdown",
   "metadata": {},
   "source": [
    "Not sure what do do with these features as they are now  \n",
    "*Consider not using WA4*"
   ]
  },
  {
   "cell_type": "markdown",
   "metadata": {},
   "source": [
    "Wanted to find number of appearances for soil types in combined data  \n",
    "Observed groupings in ST: 5-6, 22-24, 29-33, 38-40"
   ]
  },
  {
   "cell_type": "markdown",
   "metadata": {},
   "source": [
    "According to dataDesc and Explore notebook, the following are potential ST groups:  \n",
    "* 1-6  \n",
    "* 10-13  \n",
    "* 16-17  \n",
    "* 19-25  \n",
    "* 26-33  \n",
    "* 34-40  \n",
    "**Notes**  \n",
    "Refer to soilTypeNotes for more information"
   ]
  },
  {
   "cell_type": "markdown",
   "metadata": {},
   "source": [
    "Pickle the features so far for preprocessing"
   ]
  },
  {
   "cell_type": "code",
   "execution_count": 110,
   "metadata": {},
   "outputs": [],
   "source": [
    "df_train.to_pickle('./resources/trainFE1.pkl')\n",
    "df_test.to_pickle('./resources/testFE1.pkl')"
   ]
  },
  {
   "cell_type": "code",
   "execution_count": 108,
   "metadata": {},
   "outputs": [
    {
     "data": {
      "text/plain": [
       "Index(['Id', 'Elevation', 'Aspect', 'Slope',\n",
       "       'Horizontal_Distance_To_Hydrology', 'Vertical_Distance_To_Hydrology',\n",
       "       'Horizontal_Distance_To_Roadways', 'Hillshade_9am', 'Hillshade_Noon',\n",
       "       'Hillshade_3pm', 'Horizontal_Distance_To_Fire_Points',\n",
       "       'Wilderness_Area1', 'Wilderness_Area2', 'Wilderness_Area3',\n",
       "       'Wilderness_Area4', 'Soil_Type1', 'Soil_Type2', 'Soil_Type3',\n",
       "       'Soil_Type4', 'Soil_Type5', 'Soil_Type6', 'Soil_Type7', 'Soil_Type8',\n",
       "       'Soil_Type9', 'Soil_Type10', 'Soil_Type11', 'Soil_Type12',\n",
       "       'Soil_Type13', 'Soil_Type14', 'Soil_Type15', 'Soil_Type16',\n",
       "       'Soil_Type17', 'Soil_Type18', 'Soil_Type19', 'Soil_Type20',\n",
       "       'Soil_Type21', 'Soil_Type22', 'Soil_Type23', 'Soil_Type24',\n",
       "       'Soil_Type25', 'Soil_Type26', 'Soil_Type27', 'Soil_Type28',\n",
       "       'Soil_Type29', 'Soil_Type30', 'Soil_Type31', 'Soil_Type32',\n",
       "       'Soil_Type33', 'Soil_Type34', 'Soil_Type35', 'Soil_Type36',\n",
       "       'Soil_Type37', 'Soil_Type38', 'Soil_Type39', 'Soil_Type40',\n",
       "       'Cover_Type', 'Elev_Band_5', 'Elev_Band_3', 'Elev_GT_2600',\n",
       "       'Slope_GT_22', 'HDH4', 'VDH_non0', 'VDH_Sign', 'HDR3',\n",
       "       'Hillshade_9am_Noon', 'Hillshade_9am_Noon_3pm', 'HDFP3'],\n",
       "      dtype='object')"
      ]
     },
     "execution_count": 108,
     "metadata": {},
     "output_type": "execute_result"
    }
   ],
   "source": [
    "combine.columns"
   ]
  }
 ],
 "metadata": {
  "kernelspec": {
   "display_name": "Python 3",
   "language": "python",
   "name": "python3"
  },
  "language_info": {
   "codemirror_mode": {
    "name": "ipython",
    "version": 3
   },
   "file_extension": ".py",
   "mimetype": "text/x-python",
   "name": "python",
   "nbconvert_exporter": "python",
   "pygments_lexer": "ipython3",
   "version": "3.6.6"
  }
 },
 "nbformat": 4,
 "nbformat_minor": 2
}
