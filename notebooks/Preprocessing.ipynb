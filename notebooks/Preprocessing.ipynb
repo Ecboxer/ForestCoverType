{
 "cells": [
  {
   "cell_type": "code",
   "execution_count": 1,
   "metadata": {},
   "outputs": [],
   "source": [
    "import numpy as np\n",
    "import pandas as pd\n",
    "import scipy\n",
    "from sklearn import preprocessing"
   ]
  },
  {
   "cell_type": "code",
   "execution_count": 2,
   "metadata": {},
   "outputs": [],
   "source": [
    "df_train = pd.read_pickle('../resources/trainFE1.pkl')\n",
    "df_test = pd.read_pickle('../resources/testFE1.pkl')\n",
    "combine = pd.concat([df_train, df_test], sort=False)"
   ]
  },
  {
   "cell_type": "code",
   "execution_count": 3,
   "metadata": {},
   "outputs": [
    {
     "data": {
      "text/plain": [
       "(581012, 67)"
      ]
     },
     "execution_count": 3,
     "metadata": {},
     "output_type": "execute_result"
    }
   ],
   "source": [
    "combine.shape"
   ]
  },
  {
   "cell_type": "markdown",
   "metadata": {},
   "source": [
    "Standardize features:"
   ]
  },
  {
   "cell_type": "code",
   "execution_count": 4,
   "metadata": {},
   "outputs": [],
   "source": [
    "stdList = ['Elevation', 'Elev_Band_5', 'Elev_Band_3', 'Elev_GT_2600',\n",
    "          'Aspect', 'Slope', 'Slope_GT_22',\n",
    "          'Horizontal_Distance_To_Hydrology', 'HDH4',\n",
    "          'Vertical_Distance_To_Hydrology', 'VDH_non0', 'VDH_Sign',\n",
    "          'Horizontal_Distance_To_Roadways', 'HDR3',\n",
    "          'Hillshade_9am_Noon', 'Hillshade_3pm',\n",
    "          'Horizontal_Distance_To_Fire_Points', 'HDFP3']"
   ]
  },
  {
   "cell_type": "code",
   "execution_count": 5,
   "metadata": {},
   "outputs": [],
   "source": [
    "df_to_scale = combine[stdList] #To be scaled\n",
    "df_not_scaled = combine[combine.columns.difference(stdList)] #Not to be scaled"
   ]
  },
  {
   "cell_type": "code",
   "execution_count": 6,
   "metadata": {},
   "outputs": [],
   "source": [
    "scaler = preprocessing.StandardScaler()\n",
    "data_scaled = scaler.fit_transform(df_to_scale)"
   ]
  },
  {
   "cell_type": "markdown",
   "metadata": {},
   "source": [
    "scaled_data contains the standardized features"
   ]
  },
  {
   "cell_type": "code",
   "execution_count": 7,
   "metadata": {},
   "outputs": [],
   "source": [
    "df_scaled = pd.DataFrame(data_scaled).rename(index=str, columns={\n",
    "    0: 'Elevation',\n",
    "    1: 'Elev_Band_5',\n",
    "    2: 'Elev_Band_3',\n",
    "    3: 'Elev_GT_2600',\n",
    "    4: 'Aspect',\n",
    "    5: 'Slope',\n",
    "    6: 'Slope_GT_22',\n",
    "    7: 'Horizontal_Distance_To_Hydrology',\n",
    "    8: 'HDH4',\n",
    "    9: 'Vertical_Distance_To_Hydrology',\n",
    "    10: 'VDH_non0',\n",
    "    11: 'VDH_Sign',\n",
    "    12: 'Horizontal_Distance_To_Roadways',\n",
    "    13: 'HDR3',\n",
    "    14: 'Hillshade_9am_Noon',\n",
    "    15: 'Hillshade_3pm',\n",
    "    16: 'Horizontal_Distance_To_Fire_Points',\n",
    "    17: 'HDFP3'\n",
    "})"
   ]
  },
  {
   "cell_type": "code",
   "execution_count": 8,
   "metadata": {},
   "outputs": [
    {
     "data": {
      "text/html": [
       "<div>\n",
       "<style scoped>\n",
       "    .dataframe tbody tr th:only-of-type {\n",
       "        vertical-align: middle;\n",
       "    }\n",
       "\n",
       "    .dataframe tbody tr th {\n",
       "        vertical-align: top;\n",
       "    }\n",
       "\n",
       "    .dataframe thead th {\n",
       "        text-align: right;\n",
       "    }\n",
       "</style>\n",
       "<table border=\"1\" class=\"dataframe\">\n",
       "  <thead>\n",
       "    <tr style=\"text-align: right;\">\n",
       "      <th></th>\n",
       "      <th>Elevation</th>\n",
       "      <th>Elev_Band_5</th>\n",
       "      <th>Elev_Band_3</th>\n",
       "      <th>Elev_GT_2600</th>\n",
       "      <th>Aspect</th>\n",
       "      <th>Slope</th>\n",
       "      <th>Slope_GT_22</th>\n",
       "      <th>Horizontal_Distance_To_Hydrology</th>\n",
       "      <th>HDH4</th>\n",
       "      <th>Vertical_Distance_To_Hydrology</th>\n",
       "      <th>VDH_non0</th>\n",
       "      <th>VDH_Sign</th>\n",
       "      <th>Horizontal_Distance_To_Roadways</th>\n",
       "      <th>HDR3</th>\n",
       "      <th>Hillshade_9am_Noon</th>\n",
       "      <th>Hillshade_3pm</th>\n",
       "      <th>Horizontal_Distance_To_Fire_Points</th>\n",
       "      <th>HDFP3</th>\n",
       "    </tr>\n",
       "  </thead>\n",
       "  <tbody>\n",
       "    <tr>\n",
       "      <th>0</th>\n",
       "      <td>-1.297805</td>\n",
       "      <td>0.275753</td>\n",
       "      <td>-2.860756</td>\n",
       "      <td>-2.860756</td>\n",
       "      <td>-0.935157</td>\n",
       "      <td>-1.482820</td>\n",
       "      <td>-0.399164</td>\n",
       "      <td>-0.053767</td>\n",
       "      <td>0.903527</td>\n",
       "      <td>-0.796273</td>\n",
       "      <td>-3.745240</td>\n",
       "      <td>-1.205608</td>\n",
       "      <td>-1.180146</td>\n",
       "      <td>-0.998597</td>\n",
       "      <td>0.524422</td>\n",
       "      <td>0.142960</td>\n",
       "      <td>3.246283</td>\n",
       "      <td>0.705698</td>\n",
       "    </tr>\n",
       "    <tr>\n",
       "      <th>1</th>\n",
       "      <td>-1.319235</td>\n",
       "      <td>0.275753</td>\n",
       "      <td>-2.860756</td>\n",
       "      <td>-2.860756</td>\n",
       "      <td>-0.890480</td>\n",
       "      <td>-1.616363</td>\n",
       "      <td>-0.399164</td>\n",
       "      <td>-0.270188</td>\n",
       "      <td>0.903527</td>\n",
       "      <td>-0.899197</td>\n",
       "      <td>0.267006</td>\n",
       "      <td>-2.826843</td>\n",
       "      <td>-1.257106</td>\n",
       "      <td>-0.998597</td>\n",
       "      <td>0.584236</td>\n",
       "      <td>0.221342</td>\n",
       "      <td>3.205504</td>\n",
       "      <td>0.705698</td>\n",
       "    </tr>\n",
       "    <tr>\n",
       "      <th>2</th>\n",
       "      <td>-0.554907</td>\n",
       "      <td>0.275753</td>\n",
       "      <td>0.349558</td>\n",
       "      <td>0.349558</td>\n",
       "      <td>-0.148836</td>\n",
       "      <td>-0.681563</td>\n",
       "      <td>-0.399164</td>\n",
       "      <td>-0.006719</td>\n",
       "      <td>0.903527</td>\n",
       "      <td>0.318742</td>\n",
       "      <td>0.267006</td>\n",
       "      <td>0.415628</td>\n",
       "      <td>0.532212</td>\n",
       "      <td>1.001405</td>\n",
       "      <td>1.092651</td>\n",
       "      <td>-0.196691</td>\n",
       "      <td>3.126965</td>\n",
       "      <td>0.705698</td>\n",
       "    </tr>\n",
       "    <tr>\n",
       "      <th>3</th>\n",
       "      <td>-0.622768</td>\n",
       "      <td>0.275753</td>\n",
       "      <td>0.349558</td>\n",
       "      <td>0.349558</td>\n",
       "      <td>-0.005869</td>\n",
       "      <td>0.520322</td>\n",
       "      <td>-0.399164</td>\n",
       "      <td>-0.129044</td>\n",
       "      <td>0.903527</td>\n",
       "      <td>1.227908</td>\n",
       "      <td>0.267006</td>\n",
       "      <td>0.415628</td>\n",
       "      <td>0.474492</td>\n",
       "      <td>1.001405</td>\n",
       "      <td>1.212278</td>\n",
       "      <td>-0.536343</td>\n",
       "      <td>3.194931</td>\n",
       "      <td>0.705698</td>\n",
       "    </tr>\n",
       "    <tr>\n",
       "      <th>4</th>\n",
       "      <td>-1.301377</td>\n",
       "      <td>0.275753</td>\n",
       "      <td>-2.860756</td>\n",
       "      <td>-2.860756</td>\n",
       "      <td>-0.988770</td>\n",
       "      <td>-1.616363</td>\n",
       "      <td>-0.399164</td>\n",
       "      <td>-0.547771</td>\n",
       "      <td>-1.106774</td>\n",
       "      <td>-0.813427</td>\n",
       "      <td>0.267006</td>\n",
       "      <td>-2.826843</td>\n",
       "      <td>-1.256464</td>\n",
       "      <td>-0.998597</td>\n",
       "      <td>0.554329</td>\n",
       "      <td>0.195215</td>\n",
       "      <td>3.165479</td>\n",
       "      <td>0.705698</td>\n",
       "    </tr>\n",
       "  </tbody>\n",
       "</table>\n",
       "</div>"
      ],
      "text/plain": [
       "   Elevation  Elev_Band_5  Elev_Band_3  Elev_GT_2600    Aspect     Slope  \\\n",
       "0  -1.297805     0.275753    -2.860756     -2.860756 -0.935157 -1.482820   \n",
       "1  -1.319235     0.275753    -2.860756     -2.860756 -0.890480 -1.616363   \n",
       "2  -0.554907     0.275753     0.349558      0.349558 -0.148836 -0.681563   \n",
       "3  -0.622768     0.275753     0.349558      0.349558 -0.005869  0.520322   \n",
       "4  -1.301377     0.275753    -2.860756     -2.860756 -0.988770 -1.616363   \n",
       "\n",
       "   Slope_GT_22  Horizontal_Distance_To_Hydrology      HDH4  \\\n",
       "0    -0.399164                         -0.053767  0.903527   \n",
       "1    -0.399164                         -0.270188  0.903527   \n",
       "2    -0.399164                         -0.006719  0.903527   \n",
       "3    -0.399164                         -0.129044  0.903527   \n",
       "4    -0.399164                         -0.547771 -1.106774   \n",
       "\n",
       "   Vertical_Distance_To_Hydrology  VDH_non0  VDH_Sign  \\\n",
       "0                       -0.796273 -3.745240 -1.205608   \n",
       "1                       -0.899197  0.267006 -2.826843   \n",
       "2                        0.318742  0.267006  0.415628   \n",
       "3                        1.227908  0.267006  0.415628   \n",
       "4                       -0.813427  0.267006 -2.826843   \n",
       "\n",
       "   Horizontal_Distance_To_Roadways      HDR3  Hillshade_9am_Noon  \\\n",
       "0                        -1.180146 -0.998597            0.524422   \n",
       "1                        -1.257106 -0.998597            0.584236   \n",
       "2                         0.532212  1.001405            1.092651   \n",
       "3                         0.474492  1.001405            1.212278   \n",
       "4                        -1.256464 -0.998597            0.554329   \n",
       "\n",
       "   Hillshade_3pm  Horizontal_Distance_To_Fire_Points     HDFP3  \n",
       "0       0.142960                            3.246283  0.705698  \n",
       "1       0.221342                            3.205504  0.705698  \n",
       "2      -0.196691                            3.126965  0.705698  \n",
       "3      -0.536343                            3.194931  0.705698  \n",
       "4       0.195215                            3.165479  0.705698  "
      ]
     },
     "execution_count": 8,
     "metadata": {},
     "output_type": "execute_result"
    }
   ],
   "source": [
    "df_scaled.head()"
   ]
  },
  {
   "cell_type": "markdown",
   "metadata": {},
   "source": [
    "**To do**  \n",
    "Join df_scaled and df_not_scaled"
   ]
  },
  {
   "cell_type": "code",
   "execution_count": 9,
   "metadata": {},
   "outputs": [
    {
     "data": {
      "text/plain": [
       "((581012, 18), (581012, 49))"
      ]
     },
     "execution_count": 9,
     "metadata": {},
     "output_type": "execute_result"
    }
   ],
   "source": [
    "(df_scaled.shape, df_not_scaled.shape)"
   ]
  },
  {
   "cell_type": "markdown",
   "metadata": {},
   "source": [
    "df_scaled has dtypes float64  \n",
    "df_not_scaled has dtypes int64"
   ]
  },
  {
   "cell_type": "code",
   "execution_count": 10,
   "metadata": {},
   "outputs": [
    {
     "data": {
      "text/plain": [
       "(Elevation                             float64\n",
       " Elev_Band_5                           float64\n",
       " Elev_Band_3                           float64\n",
       " Elev_GT_2600                          float64\n",
       " Aspect                                float64\n",
       " Slope                                 float64\n",
       " Slope_GT_22                           float64\n",
       " Horizontal_Distance_To_Hydrology      float64\n",
       " HDH4                                  float64\n",
       " Vertical_Distance_To_Hydrology        float64\n",
       " VDH_non0                              float64\n",
       " VDH_Sign                              float64\n",
       " Horizontal_Distance_To_Roadways       float64\n",
       " HDR3                                  float64\n",
       " Hillshade_9am_Noon                    float64\n",
       " Hillshade_3pm                         float64\n",
       " Horizontal_Distance_To_Fire_Points    float64\n",
       " HDFP3                                 float64\n",
       " dtype: object, Cover_Type                float64\n",
       " Hillshade_9am               int64\n",
       " Hillshade_9am_Noon_3pm      int64\n",
       " Hillshade_Noon              int64\n",
       " Id                          int64\n",
       " Soil_Type1                  int64\n",
       " Soil_Type10                 int64\n",
       " Soil_Type11                 int64\n",
       " Soil_Type12                 int64\n",
       " Soil_Type13                 int64\n",
       " Soil_Type14                 int64\n",
       " Soil_Type15                 int64\n",
       " Soil_Type16                 int64\n",
       " Soil_Type17                 int64\n",
       " Soil_Type18                 int64\n",
       " Soil_Type19                 int64\n",
       " Soil_Type2                  int64\n",
       " Soil_Type20                 int64\n",
       " Soil_Type21                 int64\n",
       " Soil_Type22                 int64\n",
       " Soil_Type23                 int64\n",
       " Soil_Type24                 int64\n",
       " Soil_Type25                 int64\n",
       " Soil_Type26                 int64\n",
       " Soil_Type27                 int64\n",
       " Soil_Type28                 int64\n",
       " Soil_Type29                 int64\n",
       " Soil_Type3                  int64\n",
       " Soil_Type30                 int64\n",
       " Soil_Type31                 int64\n",
       " Soil_Type32                 int64\n",
       " Soil_Type33                 int64\n",
       " Soil_Type34                 int64\n",
       " Soil_Type35                 int64\n",
       " Soil_Type36                 int64\n",
       " Soil_Type37                 int64\n",
       " Soil_Type38                 int64\n",
       " Soil_Type39                 int64\n",
       " Soil_Type4                  int64\n",
       " Soil_Type40                 int64\n",
       " Soil_Type5                  int64\n",
       " Soil_Type6                  int64\n",
       " Soil_Type7                  int64\n",
       " Soil_Type8                  int64\n",
       " Soil_Type9                  int64\n",
       " Wilderness_Area1            int64\n",
       " Wilderness_Area2            int64\n",
       " Wilderness_Area3            int64\n",
       " Wilderness_Area4            int64\n",
       " dtype: object)"
      ]
     },
     "execution_count": 10,
     "metadata": {},
     "output_type": "execute_result"
    }
   ],
   "source": [
    "df_scaled.dtypes, df_not_scaled.dtypes"
   ]
  },
  {
   "cell_type": "code",
   "execution_count": 11,
   "metadata": {},
   "outputs": [],
   "source": [
    "df_not_scaled = df_not_scaled.astype(dtype='float64')"
   ]
  },
  {
   "cell_type": "markdown",
   "metadata": {},
   "source": [
    "Reset indices"
   ]
  },
  {
   "cell_type": "code",
   "execution_count": 12,
   "metadata": {},
   "outputs": [],
   "source": [
    "df_scaled.reset_index(drop=True, inplace=True)\n",
    "df_not_scaled.reset_index(drop=True, inplace=True)"
   ]
  },
  {
   "cell_type": "code",
   "execution_count": 13,
   "metadata": {},
   "outputs": [],
   "source": [
    "df_train_scaled = df_scaled[:15120]\n",
    "df_test_scaled = df_scaled[15120:]\n",
    "\n",
    "df_train_not_scaled = df_not_scaled[:15120]\n",
    "df_test_not_scaled = df_not_scaled[15120:]"
   ]
  },
  {
   "cell_type": "code",
   "execution_count": 14,
   "metadata": {},
   "outputs": [],
   "source": [
    "df_train_all = pd.concat([df_train_scaled, df_train_not_scaled], axis=1, sort=None)\n",
    "df_test_all = pd.concat([df_test_scaled, df_test_not_scaled], axis=1, sort=None)"
   ]
  },
  {
   "cell_type": "code",
   "execution_count": 15,
   "metadata": {},
   "outputs": [],
   "source": [
    "df_test_all.drop('Cover_Type', axis=1, inplace=True)"
   ]
  },
  {
   "cell_type": "markdown",
   "metadata": {},
   "source": [
    "**Solved NaN values problem**  \n",
    "Converted df_not_scaled to float64  \n",
    "Reset indices in df_scaled and df_not_scaled"
   ]
  },
  {
   "cell_type": "code",
   "execution_count": 16,
   "metadata": {},
   "outputs": [],
   "source": [
    "df_train_all.to_pickle('../resources/trainSTD1.pkl')\n",
    "df_test_all.to_pickle('../resources/testSTD1.pkl')"
   ]
  },
  {
   "cell_type": "markdown",
   "metadata": {},
   "source": [
    "Cell for column name reference"
   ]
  },
  {
   "cell_type": "code",
   "execution_count": 17,
   "metadata": {},
   "outputs": [
    {
     "data": {
      "text/plain": [
       "Index(['Id', 'Elevation', 'Aspect', 'Slope',\n",
       "       'Horizontal_Distance_To_Hydrology', 'Vertical_Distance_To_Hydrology',\n",
       "       'Horizontal_Distance_To_Roadways', 'Hillshade_9am', 'Hillshade_Noon',\n",
       "       'Hillshade_3pm', 'Horizontal_Distance_To_Fire_Points',\n",
       "       'Wilderness_Area1', 'Wilderness_Area2', 'Wilderness_Area3',\n",
       "       'Wilderness_Area4', 'Soil_Type1', 'Soil_Type2', 'Soil_Type3',\n",
       "       'Soil_Type4', 'Soil_Type5', 'Soil_Type6', 'Soil_Type7', 'Soil_Type8',\n",
       "       'Soil_Type9', 'Soil_Type10', 'Soil_Type11', 'Soil_Type12',\n",
       "       'Soil_Type13', 'Soil_Type14', 'Soil_Type15', 'Soil_Type16',\n",
       "       'Soil_Type17', 'Soil_Type18', 'Soil_Type19', 'Soil_Type20',\n",
       "       'Soil_Type21', 'Soil_Type22', 'Soil_Type23', 'Soil_Type24',\n",
       "       'Soil_Type25', 'Soil_Type26', 'Soil_Type27', 'Soil_Type28',\n",
       "       'Soil_Type29', 'Soil_Type30', 'Soil_Type31', 'Soil_Type32',\n",
       "       'Soil_Type33', 'Soil_Type34', 'Soil_Type35', 'Soil_Type36',\n",
       "       'Soil_Type37', 'Soil_Type38', 'Soil_Type39', 'Soil_Type40',\n",
       "       'Cover_Type', 'Elev_Band_5', 'Elev_Band_3', 'Elev_GT_2600',\n",
       "       'Slope_GT_22', 'HDH4', 'VDH_non0', 'VDH_Sign', 'HDR3',\n",
       "       'Hillshade_9am_Noon', 'Hillshade_9am_Noon_3pm', 'HDFP3'],\n",
       "      dtype='object')"
      ]
     },
     "execution_count": 17,
     "metadata": {},
     "output_type": "execute_result"
    }
   ],
   "source": [
    "combine.columns"
   ]
  }
 ],
 "metadata": {
  "kernelspec": {
   "display_name": "Python 3",
   "language": "python",
   "name": "python3"
  },
  "language_info": {
   "codemirror_mode": {
    "name": "ipython",
    "version": 3
   },
   "file_extension": ".py",
   "mimetype": "text/x-python",
   "name": "python",
   "nbconvert_exporter": "python",
   "pygments_lexer": "ipython3",
   "version": "3.6.6"
  }
 },
 "nbformat": 4,
 "nbformat_minor": 2
}
